{
 "cells": [
  {
   "cell_type": "markdown",
   "metadata": {},
   "source": [
    "# This is the in situ and SSS collocation code. \n"
   ]
  },
  {
   "cell_type": "code",
   "execution_count": 1,
   "metadata": {},
   "outputs": [
    {
     "name": "stderr",
     "output_type": "stream",
     "text": [
      "C:\\Users\\gentemann\\Miniconda3\\envs\\satenv\\lib\\site-packages\\xarray\\core\\merge.py:17: FutureWarning: The Panel class is removed from pandas. Accessing it from the top-level namespace will also be removed in the next version\n",
      "  PANDAS_TYPES = (pd.Series, pd.DataFrame, pd.Panel)\n"
     ]
    }
   ],
   "source": [
    "import numpy as np\n",
    "import matplotlib.pyplot as plt\n",
    "import xarray as xr\n",
    "import cartopy.crs as ccrs\n"
   ]
  },
  {
   "cell_type": "markdown",
   "metadata": {},
   "source": [
    "# Define a function to read in insitu data\n",
    "- Read in the Saildrone USV file either from a local disc or using OpenDAP.\n",
    "- add room to write collocated data to in situ dataset\n"
   ]
  },
  {
   "cell_type": "code",
   "execution_count": 2,
   "metadata": {},
   "outputs": [],
   "source": [
    "def read_usv(iusv):\n",
    "#    filename_usv_list = ['F:/data/cruise_data/saildrone/noaa_arctic/PMEL_2015/126/pmel_2015_sd126-ALL-1_min-v1.nc',\n",
    "#                         'F:/data/cruise_data/saildrone/noaa_arctic/PMEL_2015/128/pmel_2015_sd128-ALL-1_min-v1.nc',\n",
    "#                         'F:/data/cruise_data/saildrone/noaa_arctic/PMEL_2016/126/pmel_2016_sd126-ALL-1_min-v1.nc',\n",
    "#                         'F:/data/cruise_data/saildrone/noaa_arctic/PMEL_2016/128/pmel_2016_sd128-ALL-1_min-v1.nc',\n",
    "#                         'F:/data/cruise_data/saildrone/2019_arctic/daily_files/arctic_2019_sd1033-ALL-1_min-v1.nc',\n",
    "#                         'F:/data/cruise_data/saildrone/2019_arctic/daily_files/arctic_2019_sd1034-ALL-1_min-v1.nc',\n",
    "#                         'F:/data/cruise_data/saildrone/2019_arctic/daily_files/arctic_2019_sd1035-ALL-1_min-v1.nc',\n",
    "#                         'F:/data/cruise_data/saildrone/2019_arctic/daily_files/arctic_2019_sd1036-ALL-1_min-v1.nc',\n",
    "#                         'F:/data/cruise_data/saildrone/2019_arctic/daily_files/arctic_2019_sd1037-ALL-1_min-v1.nc',\n",
    "#                        'F:/data/cruise_data/saildrone/antarctic/saildrone-gen_5-antarctica_circumnavigation_2019-sd1020-20190119T040000-20190803T043000-1440_minutes-v1.1564857794963.nc']\n",
    "    filename_usv_list = ['C:/Users/gentemann/Google Drive/private/tem_saildrone/pmel_2015_sd126-ALL-1_min-v1.nc',\n",
    "                         'C:/Users/gentemann/Google Drive/private/tem_saildrone/pmel_2015_sd128-ALL-1_min-v1.nc',\n",
    "                         'C:/Users/gentemann/Google Drive/private/tem_saildrone/pmel_2016_sd126-ALL-1_min-v1.nc',\n",
    "                         'C:/Users/gentemann/Google Drive/private/tem_saildrone/pmel_2016_sd128-ALL-1_min-v1.nc',\n",
    "                         'C:/Users/gentemann/Google Drive/private/tem_saildrone/arctic_2019_sd1033-ALL-1_min-v1.nc',\n",
    "                         'C:/Users/gentemann/Google Drive/private/tem_saildrone/arctic_2019_sd1034-ALL-1_min-v1.nc',\n",
    "                         'C:/Users/gentemann/Google Drive/private/tem_saildrone/arctic_2019_sd1035-ALL-1_min-v1.nc',\n",
    "                         'C:/Users/gentemann/Google Drive/private/tem_saildrone/arctic_2019_sd1036-ALL-1_min-v1.nc',\n",
    "                         'C:/Users/gentemann/Google Drive/private/tem_saildrone/arctic_2019_sd1037-ALL-1_min-v1.nc',\n",
    "                         'C:/Users/gentemann/Google Drive/private/tem_saildrone/saildrone-gen_5-antarctica_circumnavigation_2019-sd1020-20190119T040000-20190803T043000-1440_minutes-v1.1564857794963.nc']\n",
    "    name_usv_list = ['arctic2015_126',\n",
    "                     'arctic2015_128',\n",
    "                     'arctic2016_126',\n",
    "                     'arctic2016_128',\n",
    "                     'arctic2019_1033',\n",
    "                     'arctic2019_1034',\n",
    "                     'arctic2019_1035',\n",
    "                     'arctic2019_1036',\n",
    "                     'arctic2019_1037',\n",
    "                    'antarctic2019']\n",
    "\n",
    "    filename_usv = filename_usv_list[iusv]\n",
    "#    if iusv==3:\n",
    "#    elif iusv<3:\n",
    "#    elif (iusv>3) & (iusv<8):\n",
    "    ds_usv = xr.open_dataset(filename_usv)\n",
    "    ds_usv.close()\n",
    "#NEED TO FIND OUT IF wind_speed is to/from wind_direction ?\n",
    "    if (iusv==0 or iusv==1):  #1033\n",
    "        ds_usv = ds_usv.rename({'temp_air_mean':'TEMP_AIR_MEAN','rh_mean':'RH_MEAN','baro_pres_mean':'BARO_PRES_MEAN',\n",
    "                                'sal_mean':'SAL_MEAN','temp_ctd_mean':'TEMP_CTD_MEAN','temp_o2_mean':'TEMP_O2_MEAN',\n",
    "                                'chlor_mean':'CHLOR_MEAN','gust_wnd_mean':'GUST_WND_MEAN'})\n",
    "        tem_att=ds_usv.wind_speed_mean.attrs\n",
    "        ds_usv['wind_speed_mean']=ds_usv.wind_speed_mean*.51444\n",
    "        ds_usv.wind_speed_mean.attrs=tem_att\n",
    "        ds_usv.wind_speed_mean.attrs['units']='m s-1'\n",
    "        uwnd = ds_usv.wind_speed_mean*np.cos(np.deg2rad(ds_usv.wind_direction_mean))\n",
    "        vwnd = ds_usv.wind_speed_mean*np.sin(np.deg2rad(ds_usv.wind_direction_mean))\n",
    "        ds_usv['UWND_MEAN']=uwnd\n",
    "        ds_usv.UWND_MEAN.attrs={'standard_name':'eastward_wind','long_name':'Eastward wind speed','units':'m s-1','installed_height':'5.2'}\n",
    "        ds_usv['VWND_MEAN']=vwnd\n",
    "        ds_usv.VWND_MEAN.attrs={'standard_name':'northward_wind','long_name':'Northward wind speed','units':'m s-1','installed_height':'5.2'}\n",
    "        ilen = ds_usv.time.shape[0]\n",
    "        ds_usv['WWND_MEAN']=xr.DataArray(np.ones(ilen)*np.nan,coords={'time':ds_usv.time},dims=('time'))\n",
    "        ds_usv.WWND_MEAN.attrs={'standard_name':'upward_wind_velocity','long_name':'upward wind speed','units':'m s-1','installed_height':'5.2'}\n",
    "    if (iusv==2 or iusv==3):  #1033\n",
    "        ds_usv = ds_usv.rename({'temp_air_mean':'TEMP_AIR_MEAN','rh_mean':'RH_MEAN','baro_pres_mean':'BARO_PRES_MEAN',\n",
    "                                'sal_mean':'SAL_MEAN','temp_ctd_mean':'TEMP_CTD_MEAN','temp_o2_mean':'TEMP_O2_MEAN',\n",
    "                                'chlor_mean':'CHLOR_MEAN','gust_wnd_mean':'GUST_WND_MEAN'})\n",
    "        tem_att=ds_usv.wind_speed.attrs\n",
    "        ds_usv['wind_speed']=ds_usv.wind_speed*.51444\n",
    "        ds_usv.wind_speed.attrs=tem_att\n",
    "        ds_usv.wind_speed.attrs['units']='m s-1'\n",
    "        uwnd = ds_usv.wind_speed*np.cos(np.deg2rad(ds_usv.wind_direction))\n",
    "        vwnd = ds_usv.wind_speed*np.sin(np.deg2rad(ds_usv.wind_direction))\n",
    "        ds_usv['UWND_MEAN']=uwnd\n",
    "        ds_usv.UWND_MEAN.attrs={'standard_name':'eastward_wind','long_name':'Eastward wind speed','units':'m s-1','installed_height':'5.2'}\n",
    "        ds_usv['VWND_MEAN']=vwnd\n",
    "        ds_usv.VWND_MEAN.attrs={'standard_name':'northward_wind','long_name':'Northward wind speed','units':'m s-1','installed_height':'5.2'}\n",
    "        ilen = ds_usv.time.shape[0]\n",
    "        ds_usv['WWND_MEAN']=xr.DataArray(np.ones(ilen)*np.nan,coords={'time':ds_usv.time},dims=('time'))\n",
    "        ds_usv.WWND_MEAN.attrs={'standard_name':'upward_wind_velocity','long_name':'upward wind speed','units':'m s-1','installed_height':'5.2'}\n",
    "    if iusv==4:  #1033\n",
    "        ds_usv = ds_usv.rename({'TEMP_CTD_RBR_MEAN':'TEMP_CTD_MEAN','TEMP_O2_RBR_MEAN':'TEMP_O2_MEAN','SAL_RBR_MEAN':'SAL_MEAN','CHLOR_WETLABS_MEAN':'CHLOR_MEAN'})\n",
    "    if iusv==5:  #1034\n",
    "        ds_usv = ds_usv.rename({'TEMP_CTD_RBR_MEAN':'TEMP_CTD_MEAN','TEMP_O2_RBR_MEAN':'TEMP_O2_MEAN','SAL_RBR_MEAN':'SAL_MEAN','CHLOR_WETLABS_MEAN':'CHLOR_MEAN'})\n",
    "    if iusv==6:  #1035\n",
    "        ds_usv = ds_usv.rename({'TEMP_CTD_RBR_MEAN':'TEMP_CTD_MEAN','TEMP_O2_RBR_MEAN':'TEMP_O2_MEAN','SAL_RBR_MEAN':'SAL_MEAN','CHLOR_WETLABS_MEAN':'CHLOR_MEAN'})\n",
    "    if iusv==7:  #1036\n",
    "        ds_usv = ds_usv.isel(time=slice(100,-1))                                                                   #        ds_usv = ds_usv.rename({'TEMP_CTD_RBR_MEAN':'TEMP_CTD_MEAN','TEMP_O2_RBR_MEAN':'TEMP_O2_MEAN','SAL_RBR_MEAN':'SAL_MEAN','CHLOR_WETLABS_MEAN':'CHLOR_MEAN'})\n",
    "        ds_usv = ds_usv.rename({'TEMP_CTD_RBR_MEAN':'TEMP_CTD_MEAN','TEMP_O2_RBR_MEAN':'TEMP_O2_MEAN','SAL_RBR_MEAN':'SAL_MEAN','CHLOR_WETLABS_MEAN':'CHLOR_MEAN'})\n",
    "    if iusv==8:  #1037\n",
    "        ds_usv = ds_usv.rename({'TEMP_CTD_RBR_MEAN':'TEMP_CTD_MEAN','TEMP_O2_RBR_MEAN':'TEMP_O2_MEAN'})\n",
    "    if iusv==9:  #1037\n",
    "        ds_usv = ds_usv.isel(trajectory=0).swap_dims({'obs':'time'}).rename({'latitude':'lat','longitude':'lon','TEMP_O2_RBR_MEAN':'TEMP_O2_MEAN'})#TEMP_CTD_RBR_MEAN':'TEMP_\n",
    "    if (iusv==9 or iusv<=3):\n",
    "        ilen = ds_usv.time.shape[0]\n",
    "        ds_usv['WIND_HEIGHT_MEAN']=xr.DataArray(np.ones(ilen)*np.nan,coords={'time':ds_usv.time},dims=('time'))\n",
    "        ds_usv.WIND_HEIGHT_MEAN.attrs={'long_name':'Wind measurement height','units':'m','installed_height':'5.2'}\n",
    "        ds_usv['WAVE_DOMINANT_PERIOD']=xr.DataArray(np.ones(ilen)*np.nan,coords={'time':ds_usv.time},dims=('time'))\n",
    "        ds_usv.WAVE_DOMINANT_PERIOD.attrs={'standard_name':'sea_surface_wave_period_at_variance_spectral_density_maximum','long_name':'Dominant wave period','units':'s','installed_height':'0.34'}\n",
    "        ds_usv['WAVE_SIGNIFICANT_HEIGHT']=xr.DataArray(np.ones(ilen)*np.nan,coords={'time':ds_usv.time},dims=('time'))\n",
    "        ds_usv.WAVE_SIGNIFICANT_HEIGHT.attrs={'standard_name':'sea_surface_wave_significant_height','long_name':'Significant wave height','units':'m','installed_height':'0.34'}\n",
    "\n",
    "    return ds_usv,name_usv_list[iusv]"
   ]
  },
  {
   "cell_type": "code",
   "execution_count": 3,
   "metadata": {},
   "outputs": [
    {
     "data": {
      "text/plain": [
       "<xarray.Dataset>\n",
       "Dimensions:                        (time: 196)\n",
       "Coordinates:\n",
       "    trajectory                     float32 1020.0\n",
       "  * time                           (time) datetime64[ns] 2019-01-20 ... 2019-08-03\n",
       "    lat                            (time) float64 ...\n",
       "    lon                            (time) float64 ...\n",
       "Data variables:\n",
       "    SOG                            (time) float64 ...\n",
       "    COG                            (time) float64 ...\n",
       "    HDG                            (time) float64 ...\n",
       "    HDG_WING                       (time) float64 ...\n",
       "    ROLL                           (time) float64 ...\n",
       "    PITCH                          (time) float64 ...\n",
       "    WING_ANGLE                     (time) float64 ...\n",
       "    BARO_PRES_MEAN                 (time) float64 ...\n",
       "    BARO_PRES_STDDEV               (time) float64 ...\n",
       "    TEMP_AIR_MEAN                  (time) float64 ...\n",
       "    TEMP_AIR_STDDEV                (time) float64 ...\n",
       "    RH_MEAN                        (time) float64 ...\n",
       "    RH_STDDEV                      (time) float64 ...\n",
       "    PAR_AIR_MEAN                   (time) float64 ...\n",
       "    PAR_AIR_STDDEV                 (time) float64 ...\n",
       "    TEMP_IR_UNCOR_MEAN             (time) float64 ...\n",
       "    TEMP_IR_UNCOR_STDDEV           (time) float64 ...\n",
       "    UWND_MEAN                      (time) float64 ...\n",
       "    UWND_STDDEV                    (time) float64 ...\n",
       "    VWND_MEAN                      (time) float64 ...\n",
       "    VWND_STDDEV                    (time) float64 ...\n",
       "    WWND_MEAN                      (time) float64 ...\n",
       "    WWND_STDDEV                    (time) float64 ...\n",
       "    GUST_WND_MEAN                  (time) float64 ...\n",
       "    GUST_WND_STDDEV                (time) float64 ...\n",
       "    TEMP_CTD_MEAN                  (time) float64 ...\n",
       "    TEMP_CTD_STDDEV                (time) float64 ...\n",
       "    COND_MEAN                      (time) float64 ...\n",
       "    COND_STDDEV                    (time) float64 ...\n",
       "    SAL_MEAN                       (time) float64 ...\n",
       "    SAL_STDDEV                     (time) float64 ...\n",
       "    O2_RBR_CONC_MEAN               (time) float64 ...\n",
       "    O2_RBR_CONC_STDDEV             (time) float64 ...\n",
       "    O2_RBR_SAT_MEAN                (time) float64 ...\n",
       "    O2_RBR_SAT_STDDEV              (time) float64 ...\n",
       "    TEMP_O2_MEAN                   (time) float64 ...\n",
       "    TEMP_O2_RBR_STDDEV             (time) float64 ...\n",
       "    O2_AANDERAA_CONC_UNCOR_MEAN    (time) float64 ...\n",
       "    O2_AANDERAA_CONC_UNCOR_STDDEV  (time) float64 ...\n",
       "    O2_AANDERAA_SAT_MEAN           (time) float64 ...\n",
       "    O2_AANDERAA_SAT_STDDEV         (time) float64 ...\n",
       "    TEMP_O2_AANDERAA_MEAN          (time) float64 ...\n",
       "    TEMP_O2_AANDERAA_STDDEV        (time) float64 ...\n",
       "    CHLOR_MEAN                     (time) float64 ...\n",
       "    CHLOR_STDDEV                   (time) float64 ...\n",
       "    WIND_HEIGHT_MEAN               (time) float64 nan nan nan ... nan nan nan\n",
       "    WAVE_DOMINANT_PERIOD           (time) float64 nan nan nan ... nan nan nan\n",
       "    WAVE_SIGNIFICANT_HEIGHT        (time) float64 nan nan nan ... nan nan nan\n",
       "Attributes:\n",
       "    title:                     Antarctica Circumnavigation Surface Data\n",
       "    summary:                   This data set was collected from the first Sai...\n",
       "    license:                   2019 © SAILDRONE Inc.  All Rights Reserved.  T...\n",
       "    wmo_id:                    4803902\n",
       "    ncei_template_version:     NCEI_NetCDF_Trajectory_Template_v2.0\n",
       "    Conventions:               CF-1.6, ACDD-1.3\n",
       "    netcdf_version:            4.4.1.1\n",
       "    featureType:               trajectory\n",
       "    cdm_data_type:             Trajectory\n",
       "    standard_name_vocabulary:  CF Standard Name Table v58\n",
       "    description:               Saildrone NetCDF Format\n",
       "    creator_name:              Saildrone\n",
       "    platform:                  Saildrone\n",
       "    institution:               Saildrone\n",
       "    creator_email:             support@saildrone.com\n",
       "    creator_url:               http://saildrone.com/\n",
       "    date_created:              2019-08-03T18:42:54.688281Z\n",
       "    interval:                  86400.0\n",
       "    time_coverage_resolution:  P1D\n",
       "    time_coverage_start:       2019-01-19T04:00:00.000000Z\n",
       "    time_coverage_end:         2019-08-03T04:30:00.000000Z\n",
       "    time_coverage_duration:    P196DT30M\n",
       "    area:                      Southern Ocean\n",
       "    data_mode:                 realtime\n",
       "    drone_id:                  1020\n",
       "    id:                        43798\n",
       "    naming_authority:          com.saildrone\n",
       "    uuid:                      25925f4c-42d7-4d23-80de-18bc982e191c\n",
       "    project:                   antarctica_circumnavigation_2019\n",
       "    geospatial_lat_min:        -60.8689472\n",
       "    geospatial_lat_max:        -46.6084672\n",
       "    geospatial_lat_units:      degrees_north\n",
       "    geospatial_lon_min:        -179.884224\n",
       "    geospatial_lon_max:        178.25152\n",
       "    geospatial_lon_units:      degrees_east"
      ]
     },
     "execution_count": 3,
     "metadata": {},
     "output_type": "execute_result"
    }
   ],
   "source": [
    "ds_usv,name=read_usv(9)\n",
    "ds_usv\n"
   ]
  },
  {
   "cell_type": "markdown",
   "metadata": {},
   "source": [
    "\n",
    "## explore the in situ data and quickly plot using cartopy\n",
    "    "
   ]
  },
  {
   "cell_type": "code",
   "execution_count": null,
   "metadata": {},
   "outputs": [],
   "source": [
    "#for NON polar data\n",
    "for iusv in range(0,9):\n",
    "    ds_usv,usvname = read_usv(iusv)\n",
    "    print(usvname)\n",
    "    #plot cruise SSS with coastlines\n",
    "    if iusv<9:\n",
    "        ax = plt.axes(projection=ccrs.PlateCarree())\n",
    "    if iusv==9:\n",
    "        ax = plt.axes(projection=ccrs.SouthPolarStereo())\n",
    "    #ds_usv = ds_usv.where(np.isfinite(ds_usv.lon))\n",
    "    cs1 = ax.scatter(ds_usv.lon, ds_usv.lat, s=3.0, c=ds_usv.TEMP_CTD_MEAN, edgecolor='none', cmap='jet',vmin=0,vmax=12)\n",
    "    ax.coastlines(resolution='50m')\n",
    "    x1,x2,y1,y2 = ds_usv.lon.min().data-2,ds_usv.lon.max().data+2,ds_usv.lat.min().data-2,ds_usv.lat.max().data+2\n",
    "    ax.set_xlim(x1,x2)\n",
    "    ax.set_ylim(y1,y2)\n",
    "    ax.set_xticks(np.arange(x1,x2,4))\n",
    "    ax.set_yticks(np.arange(y1,y2,5))\n",
    "    cax = plt.colorbar(cs1)\n",
    "    cax.set_label('SST (K)')\n",
    "    fig_fname = 'C:/Users/gentemann/Google Drive/f_drive/docs/projects/misst-arctic/mmdb/'+usvname+'_location.png'\n",
    "    plt.savefig(fig_fname, transparent=False, format='png')\n",
    "    plt.clf()"
   ]
  },
  {
   "cell_type": "code",
   "execution_count": 4,
   "metadata": {
    "scrolled": true
   },
   "outputs": [
    {
     "name": "stdout",
     "output_type": "stream",
     "text": [
      "antarctic2019\n"
     ]
    },
    {
     "data": {
      "text/plain": [
       "<Figure size 432x288 with 0 Axes>"
      ]
     },
     "metadata": {},
     "output_type": "display_data"
    }
   ],
   "source": [
    "#for polar data\n",
    "for iusv in range(9,10):\n",
    "    ds_usv,usvname = read_usv(iusv)\n",
    "    print(usvname)\n",
    "    ax = plt.axes(projection=ccrs.SouthPolarStereo())\n",
    "    cs1 = ax.scatter(ds_usv.lon, ds_usv.lat, transform=ccrs.PlateCarree(),s=10.0, c=ds_usv.TEMP_CTD_MEAN, edgecolor='none', cmap='jet',vmin=0,vmax=12)\n",
    "    ax.set_extent([-180, 180, -90, -45], crs=ccrs.PlateCarree())\n",
    "    ax.coastlines(resolution='50m')\n",
    "    cax = plt.colorbar(cs1)\n",
    "    cax.set_label('SST (K)')\n",
    "    fig_fname = 'C:/Users/gentemann/Google Drive/f_drive/docs/projects/misst-arctic/mmdb/'+usvname+'_location.png'\n",
    "    plt.savefig(fig_fname, transparent=False, format='png')\n",
    "    plt.clf()\n"
   ]
  },
  {
   "cell_type": "code",
   "execution_count": 5,
   "metadata": {},
   "outputs": [
    {
     "name": "stdout",
     "output_type": "stream",
     "text": [
      "antarctic2019\n"
     ]
    },
    {
     "data": {
      "text/plain": [
       "<Figure size 432x288 with 0 Axes>"
      ]
     },
     "metadata": {},
     "output_type": "display_data"
    }
   ],
   "source": [
    "#plot salinity\n",
    "for iusv in range(9,10):\n",
    "    ds_usv,usvname = read_usv(iusv)\n",
    "    print(usvname)\n",
    "    ax = plt.axes(projection=ccrs.SouthPolarStereo())\n",
    "    cs1 = ax.scatter(ds_usv.lon, ds_usv.lat, transform=ccrs.PlateCarree(),s=10.0, c=ds_usv.SAL_MEAN, edgecolor='none', cmap='jet',vmin=33.6,vmax=34.4)\n",
    "    ax.set_extent([-180, 180, -90, -45], crs=ccrs.PlateCarree())\n",
    "    ax.coastlines(resolution='50m')\n",
    "    cax = plt.colorbar(cs1)\n",
    "    cax.set_label('SSS (psu)')\n",
    "    fig_fname = 'C:/Users/gentemann/Google Drive/f_drive/docs/projects/misst-arctic/mmdb/'+usvname+'_sal_location.png'\n",
    "    plt.savefig(fig_fname, transparent=False, format='png')\n",
    "    plt.clf()\n"
   ]
  },
  {
   "cell_type": "code",
   "execution_count": null,
   "metadata": {},
   "outputs": [],
   "source": []
  }
 ],
 "metadata": {
  "kernelspec": {
   "display_name": "Python 3",
   "language": "python",
   "name": "python3"
  },
  "language_info": {
   "codemirror_mode": {
    "name": "ipython",
    "version": 3
   },
   "file_extension": ".py",
   "mimetype": "text/x-python",
   "name": "python",
   "nbconvert_exporter": "python",
   "pygments_lexer": "ipython3",
   "version": "3.7.3"
  }
 },
 "nbformat": 4,
 "nbformat_minor": 1
}
