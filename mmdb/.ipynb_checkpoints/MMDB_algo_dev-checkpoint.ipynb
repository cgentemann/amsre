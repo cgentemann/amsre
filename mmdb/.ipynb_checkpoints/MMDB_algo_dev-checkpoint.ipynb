{
 "cells": [
  {
   "cell_type": "code",
   "execution_count": 1,
   "metadata": {},
   "outputs": [],
   "source": [
    "#this code reads in the MMD, just lat, lon, time and interpolates CCMP for each matchup\n",
    "import datetime as dt\n",
    "from datetime import datetime\n",
    "import numpy as np\n",
    "import math\n",
    "import os\n",
    "#import sys\n",
    "import pandas as pd\n",
    "import xarray as xr\n",
    "from netCDF4 import Dataset  \n",
    "####################you will need to change some paths here!#####################\n",
    "dir_mmdb='F:/data/mmd/mmd06c_re01_pp/drifter-sst_amsre-aq/' \n",
    "dir_mmdb_ccmp='f:/data/mmd/mmd06c_re01_pp/wind/' \n",
    "dir_ccmp='F:/data/sat_data/ccmp/v02.0/Y' \n",
    "#################################################################################\n",
    "input_year=2003\n",
    "input_month=1"
   ]
  },
  {
   "cell_type": "code",
   "execution_count": 22,
   "metadata": {},
   "outputs": [
    {
     "name": "stderr",
     "output_type": "stream",
     "text": [
      "C:\\Users\\gentemann\\Anaconda3\\lib\\site-packages\\xarray\\conventions.py:362: SerializationWarning: variable 'amsre.land_ocean_flag_6' has _Unsigned attribute but is not of integer type. Ignoring attribute.\n",
      "  stack_char_dim=stack_char_dim)\n",
      "C:\\Users\\gentemann\\Anaconda3\\lib\\site-packages\\xarray\\conventions.py:362: SerializationWarning: variable 'amsre.percent_land' has _Unsigned attribute but is not of integer type. Ignoring attribute.\n",
      "  stack_char_dim=stack_char_dim)\n"
     ]
    },
    {
     "name": "stdout",
     "output_type": "stream",
     "text": [
      "F:/data/mmd/mmd06c_re01_pp/drifter-sst_amsre-aq/mmd06c_sst_drifter-sst_amsre-aq_2002-152_2002-158.nc  with  23720  obs\n"
     ]
    }
   ],
   "source": [
    "#istart_flag = 0 \n",
    "#for root, dirs, files in os.walk(dir_mmdb, topdown=False):\n",
    "#    for name in files:\n",
    "#        if name.endswith(\".nc\"):\n",
    "filename_mmdb=dir_mmdb+'mmd06c_sst_drifter-sst_amsre-aq_2002-152_2002-158.nc'\n",
    "filename_mmdb_ccmp=dir_mmdb_ccmp+'ccmp_mmd06c_sst_drifter-sst_amsre-aq_2002-152_2002-158.nc'\n",
    "ds=xr.open_dataset(filename_mmdb,decode_times=False)\n"
   ]
  },
  {
   "cell_type": "code",
   "execution_count": 52,
   "metadata": {},
   "outputs": [
    {
     "data": {
      "text/plain": [
       "<xarray.DataArray 'amsre.time' (matchup_count: 23720, amsre-aq_ny: 21, amsre-aq_nx: 21)>\n",
       "[10460520 values with dtype=float64]\n",
       "Dimensions without coordinates: matchup_count, amsre-aq_ny, amsre-aq_nx\n",
       "Attributes:\n",
       "    _CoordinateAxisType:  Time\n",
       "    units:                seconds since 1993-01-01T00:00:00Z\n",
       "    calendar:             TAI"
      ]
     },
     "execution_count": 52,
     "metadata": {},
     "output_type": "execute_result"
    }
   ],
   "source": [
    "ds['amsre.time']"
   ]
  },
  {
   "cell_type": "code",
   "execution_count": 60,
   "metadata": {},
   "outputs": [],
   "source": [
    "#ds_test = xr.DataArray(ds['amsre.percent_land'][:,10,10],\n",
    "#   ....:                   coords={'lat': ('lat', ds['amsre.latitude'][:,10,10]),\n",
    "#   ....:                           'lon': ('lon', ds['amsre.longitude'][:,10,10])},\n",
    "#   ....:                   dims=['lat','lon'])\n",
    "import cartopy.crs as ccrs\n",
    "import matplotlib.pyplot as plt\n",
    "FLOAT_FILLVALUE = np.finfo(np.float32).min\n",
    "DOUBLE_FILLVALUE = np.finfo(np.float64).min\n",
    "dtime = ds['amsre.time'][:,10,10]\n",
    "data = ds['amsre.percent_land'][:,10,10]\n",
    "lat = ds['amsre.latitude'][:,10,10].values\n",
    "lon =ds['amsre.longitude'][:,10,10].values\n",
    "#foo = xr.DataArray(data, coords=[lat,lon], dims=['lat', 'lon'])\n",
    "#plt.figure(figsize=(7,2));\n",
    "#ax = plt.axes(projection=ccrs.PlateCarree())\n",
    "#data.plot.pcolormesh(ax=ax, transform=ccrs.PlateCarree(),x=lon, y=lat);\n",
    "vattrs = ds['amsre.brightness_temperature10H'].attrs.copy()\n",
    "varrays = {}\n",
    "COORD_ATTR = 'lat lon time'\n",
    "vattrs[\"coordinates\"] = COORD_ATTR\n",
    "vattrs = ds['amsre.longitude'].attrs.copy()\n",
    "vattrs[\"_FillValue\"] = FLOAT_FILLVALUE\n",
    "values = np.ma.fix_invalid(lon)\n",
    "varrays['lon'] = xr.DataArray(values.filled(FLOAT_FILLVALUE).astype(np.float32,copy=False),dims=['time'],attrs=vattrs)\n",
    "vattrs = ds['amsre.latitude'].attrs.copy()\n",
    "vattrs[\"_FillValue\"] = FLOAT_FILLVALUE\n",
    "values = np.ma.fix_invalid(lat)\n",
    "varrays['lat'] = xr.DataArray(values.filled(FLOAT_FILLVALUE).astype(np.float32,copy=False),dims=['time'],attrs=vattrs)\n",
    "varrays['percent_land'] = xr.DataArray(data.astype(np.float32,copy=False),dims=['time'],attrs=vattrs)\n",
    "values = np.ma.fix_invalid(dtime.values)\n",
    "vtime = xr.DataArray(values.filled(FLOAT_FILLVALUE).astype(np.float64,copy=False),dims=['time'],attrs=vattrs)\n",
    "ds_test = xr.Dataset(varrays,coords = {'time': vtime})\n",
    "\n"
   ]
  },
  {
   "cell_type": "code",
   "execution_count": 61,
   "metadata": {},
   "outputs": [
    {
     "data": {
      "text/plain": [
       "<xarray.Dataset>\n",
       "Dimensions:       (time: 23720)\n",
       "Coordinates:\n",
       "  * time          (time) float64 2.973e+08 2.973e+08 2.973e+08 2.973e+08 ...\n",
       "Data variables:\n",
       "    percent_land  (time) float32 0.0 0.0 0.0 0.0 28.0 28.0 28.0 28.0 28.0 ...\n",
       "    lon           (time) float32 -72.345894 -72.44433 -72.345894 -72.345894 ...\n",
       "    lat           (time) float32 39.614376 39.59646 39.614376 39.614376 ..."
      ]
     },
     "execution_count": 61,
     "metadata": {},
     "output_type": "execute_result"
    }
   ],
   "source": [
    "#ds['amsre.latitude'][:,10,10]\n",
    "ds_test"
   ]
  },
  {
   "cell_type": "code",
   "execution_count": null,
   "metadata": {},
   "outputs": [],
   "source": []
  }
 ],
 "metadata": {
  "kernelspec": {
   "display_name": "Python 3",
   "language": "python",
   "name": "python3"
  },
  "language_info": {
   "codemirror_mode": {
    "name": "ipython",
    "version": 3
   },
   "file_extension": ".py",
   "mimetype": "text/x-python",
   "name": "python",
   "nbconvert_exporter": "python",
   "pygments_lexer": "ipython3",
   "version": "3.5.6"
  }
 },
 "nbformat": 4,
 "nbformat_minor": 2
}
