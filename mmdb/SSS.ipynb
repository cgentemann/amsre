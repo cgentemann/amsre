{
 "cells": [
  {
   "cell_type": "code",
   "execution_count": 7,
   "metadata": {},
   "outputs": [
    {
     "data": {
      "text/plain": [
       "<class 'netCDF4._netCDF4.Dataset'>\n",
       "root group (NETCDF3_CLASSIC data model, file format DAP2):\n",
       "    classification_level: UNCLASSIFIED\n",
       "    distribution_statement: Approved for public release. Distribution unlimited.\n",
       "    downgrade_date: not applicable\n",
       "    classification_authority: not applicable\n",
       "    institution: Naval Oceanographic Office\n",
       "    source: HYCOM archive file\n",
       "    history: archv2ncdf3z\n",
       "    field_type: instantaneous\n",
       "    Conventions: CF-1.6 NAVO_netcdf_v1.1\n",
       "    dimensions(sizes): depth(40), lat(3251), lon(4500), time(2861)\n",
       "    variables(dimensions): float64 \u001b[4mdepth\u001b[0m(depth), float64 \u001b[4mlat\u001b[0m(lat), float64 \u001b[4mlon\u001b[0m(lon), float64 \u001b[4mtime\u001b[0m(time), float64 \u001b[4mtau\u001b[0m(time), int16 \u001b[4mwater_u\u001b[0m(time,depth,lat,lon), int16 \u001b[4mwater_u_bottom\u001b[0m(time,lat,lon), int16 \u001b[4mwater_v\u001b[0m(time,depth,lat,lon), int16 \u001b[4mwater_v_bottom\u001b[0m(time,lat,lon), int16 \u001b[4mwater_temp\u001b[0m(time,depth,lat,lon), int16 \u001b[4mwater_temp_bottom\u001b[0m(time,lat,lon), int16 \u001b[4msalinity\u001b[0m(time,depth,lat,lon), int16 \u001b[4msalinity_bottom\u001b[0m(time,lat,lon), int16 \u001b[4msurf_el\u001b[0m(time,lat,lon)\n",
       "    groups: "
      ]
     },
     "execution_count": 7,
     "metadata": {},
     "output_type": "execute_result"
    }
   ],
   "source": [
    "import xarray as xr\n",
    "from netCDF4 import Dataset  \n",
    "import pandas as pd\n",
    "\n",
    "\n",
    "filename = 'http://tds.hycom.org/thredds/dodsC/GLBv0.08/expt_53.X/data/2015'\n",
    "#ds=xr.open_dataset(filename,decode_times=False)\n",
    "fnc = Dataset(filename,'r') \n",
    "#ds\n",
    "fnc"
   ]
  },
  {
   "cell_type": "code",
   "execution_count": 8,
   "metadata": {},
   "outputs": [],
   "source": [
    "sss_time=fnc['time'][:]  #'hours since 2000-01-01 00:00:00'\n",
    "date_sss=pd.to_datetime(sss_time.data, unit='h',origin='2000-01-01')\n",
    "lats_sss=fnc['lat'][:] \n",
    "lons_sss=fnc['lon'][:] \n",
    "salinity_amsr=fnc['salinity'][0:1,0,:,:] \n",
    "fnc.close()\n",
    "#depth_amsr=fnc['depth'][:] #goes from 0,2,4,6... to bottom\n"
   ]
  },
  {
   "cell_type": "code",
   "execution_count": 9,
   "metadata": {},
   "outputs": [],
   "source": [
    "\n"
   ]
  },
  {
   "cell_type": "code",
   "execution_count": 13,
   "metadata": {},
   "outputs": [
    {
     "name": "stdout",
     "output_type": "stream",
     "text": [
      "(1, 3251, 4500) (4500,) (3251,)\n"
     ]
    }
   ],
   "source": [
    "print(salinity_amsr.shape,lons_sss.shape,lats_sss.shape)\n",
    "\n"
   ]
  },
  {
   "cell_type": "code",
   "execution_count": null,
   "metadata": {},
   "outputs": [],
   "source": [
    "fnc.close()"
   ]
  }
 ],
 "metadata": {
  "kernelspec": {
   "display_name": "Python 3",
   "language": "python",
   "name": "python3"
  },
  "language_info": {
   "codemirror_mode": {
    "name": "ipython",
    "version": 3
   },
   "file_extension": ".py",
   "mimetype": "text/x-python",
   "name": "python",
   "nbconvert_exporter": "python",
   "pygments_lexer": "ipython3",
   "version": "3.5.5"
  }
 },
 "nbformat": 4,
 "nbformat_minor": 2
}
