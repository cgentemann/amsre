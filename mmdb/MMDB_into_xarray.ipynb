{
 "cells": [
  {
   "cell_type": "code",
   "execution_count": 1,
   "metadata": {},
   "outputs": [],
   "source": [
    "#this code reads in the MMD, just lat, lon, time and interpolates CCMP for each matchup\n",
    "import datetime as dt\n",
    "from datetime import datetime\n",
    "import numpy as np\n",
    "import math\n",
    "import os\n",
    "#import sys\n",
    "import pandas as pd\n",
    "import xarray as xr\n",
    "from netCDF4 import Dataset  \n",
    "####################you will need to change some paths here!#####################\n",
    "dir_mmdb='F:/data/mmd/mmd06c_re01_pp/drifter-sst_amsre-aq/' \n",
    "dir_mmdb_ccmp='f:/data/mmd/mmd06c_re01_pp/wind/' \n",
    "dir_ccmp='F:/data/sat_data/ccmp/v02.0/Y' \n",
    "#################################################################################\n",
    "input_year=2003\n",
    "input_month=1"
   ]
  },
  {
   "cell_type": "code",
   "execution_count": 2,
   "metadata": {},
   "outputs": [
    {
     "name": "stderr",
     "output_type": "stream",
     "text": [
      "C:\\Users\\gentemann\\Anaconda3\\lib\\site-packages\\xarray\\conventions.py:362: SerializationWarning: variable 'amsre.land_ocean_flag_6' has _Unsigned attribute but is not of integer type. Ignoring attribute.\n",
      "  stack_char_dim=stack_char_dim)\n",
      "C:\\Users\\gentemann\\Anaconda3\\lib\\site-packages\\xarray\\conventions.py:362: SerializationWarning: variable 'amsre.percent_land' has _Unsigned attribute but is not of integer type. Ignoring attribute.\n",
      "  stack_char_dim=stack_char_dim)\n"
     ]
    }
   ],
   "source": [
    "#istart_flag = 0 \n",
    "#for root, dirs, files in os.walk(dir_mmdb, topdown=False):\n",
    "#    for name in files:\n",
    "#        if name.endswith(\".nc\"):\n",
    "filename_mmdb=dir_mmdb+'mmd06c_sst_drifter-sst_amsre-aq_2002-152_2002-158.nc'\n",
    "filename_mmdb_ccmp=dir_mmdb_ccmp+'ccmp_mmd06c_sst_drifter-sst_amsre-aq_2002-152_2002-158.nc'\n",
    "ds=xr.open_dataset(filename_mmdb,decode_times=False)\n"
   ]
  },
  {
   "cell_type": "code",
   "execution_count": 3,
   "metadata": {},
   "outputs": [
    {
     "data": {
      "text/plain": [
       "<xarray.DataArray 'amsre.time' (matchup_count: 23720, amsre-aq_ny: 21, amsre-aq_nx: 21)>\n",
       "[10460520 values with dtype=float64]\n",
       "Dimensions without coordinates: matchup_count, amsre-aq_ny, amsre-aq_nx\n",
       "Attributes:\n",
       "    _CoordinateAxisType:  Time\n",
       "    units:                seconds since 1993-01-01T00:00:00Z\n",
       "    calendar:             TAI"
      ]
     },
     "execution_count": 3,
     "metadata": {},
     "output_type": "execute_result"
    }
   ],
   "source": [
    "ds['amsre.time']"
   ]
  },
  {
   "cell_type": "code",
   "execution_count": 14,
   "metadata": {},
   "outputs": [],
   "source": [
    "#ds_test = xr.DataArray(ds['amsre.percent_land'][:,10,10],\n",
    "#   ....:                   coords={'lat': ('lat', ds['amsre.latitude'][:,10,10]),\n",
    "#   ....:                           'lon': ('lon', ds['amsre.longitude'][:,10,10])},\n",
    "#   ....:                   dims=['lat','lon'])\n",
    "import cartopy.crs as ccrs\n",
    "import matplotlib.pyplot as plt\n",
    "FLOAT_FILLVALUE = np.finfo(np.float32).min\n",
    "DOUBLE_FILLVALUE = np.finfo(np.float64).min\n",
    "dtime = ds['amsre.time'][:,10,10]\n",
    "data = ds['amsre.percent_land'][:,10,10]\n",
    "lat = ds['amsre.latitude'][:,10,10].values\n",
    "lon =ds['amsre.longitude'][:,10,10].values\n",
    "#foo = xr.DataArray(data, coords=[lat,lon], dims=['lat', 'lon'])\n",
    "#plt.figure(figsize=(7,2));\n",
    "#ax = plt.axes(projection=ccrs.PlateCarree())\n",
    "#data.plot.pcolormesh(ax=ax, transform=ccrs.PlateCarree(),x=lon, y=lat);\n",
    "vattrs = ds['amsre.brightness_temperature10H'].attrs.copy()\n",
    "varrays = {}\n",
    "COORD_ATTR = 'lat lon time'\n",
    "vattrs[\"coordinates\"] = COORD_ATTR\n",
    "vattrs = ds['amsre.longitude'].attrs.copy()\n",
    "vattrs[\"_FillValue\"] = FLOAT_FILLVALUE\n",
    "values = np.ma.fix_invalid(lon)\n",
    "#varrays['lon'] = xr.DataArray(values.filled(FLOAT_FILLVALUE).astype(np.float32,copy=False),dims=['time'],attrs=vattrs)\n",
    "vattrs = ds['amsre.latitude'].attrs.copy()\n",
    "vattrs[\"_FillValue\"] = FLOAT_FILLVALUE\n",
    "values = np.ma.fix_invalid(lat)\n",
    "#varrays['lat'] = xr.DataArray(values.filled(FLOAT_FILLVALUE).astype(np.float32,copy=False),dims=['time'],attrs=vattrs)\n",
    "varrays['percent_land'] = xr.DataArray(data.astype(np.float32,copy=False),dims=['time'],attrs=vattrs)\n",
    "values = np.ma.fix_invalid(dtime.values)\n",
    "vtime = xr.DataArray(values.filled(FLOAT_FILLVALUE).astype(np.float64,copy=False),dims=['time'],attrs=vattrs)\n",
    "ds_test = xr.Dataset(varrays,coords = {'time': vtime, 'lon':lon, 'lat':lat})\n",
    "\n"
   ]
  },
  {
   "cell_type": "code",
   "execution_count": 16,
   "metadata": {},
   "outputs": [
    {
     "data": {
      "text/plain": [
       "<xarray.Dataset>\n",
       "Dimensions:       (lat: 23720, lon: 23720, time: 23720)\n",
       "Coordinates:\n",
       "  * lat           (lat) float32 39.614376 39.59646 39.614376 39.614376 ...\n",
       "  * lon           (lon) float32 -72.345894 -72.44433 -72.345894 -72.345894 ...\n",
       "  * time          (time) float64 2.973e+08 2.973e+08 2.973e+08 2.973e+08 ...\n",
       "Data variables:\n",
       "    percent_land  (time) float32 0.0 0.0 0.0 0.0 28.0 28.0 28.0 28.0 28.0 ..."
      ]
     },
     "execution_count": 16,
     "metadata": {},
     "output_type": "execute_result"
    }
   ],
   "source": [
    "#ds['amsre.latitude'][:,10,10]\n",
    "ds.data_vars\n",
    "ds['amsre.longitude'].attrs\n",
    "ds_test\n"
   ]
  },
  {
   "cell_type": "code",
   "execution_count": 28,
   "metadata": {},
   "outputs": [],
   "source": [
    "dataset=ds\n",
    "# convert names\n",
    "COORD_ATTR = 'lat lon time'\n",
    "#COORD_ATTR = 'time'\n",
    "FLOAT_FILLVALUE = np.finfo(np.float32).min\n",
    "DOUBLE_FILLVALUE = np.finfo(np.float64).min\n",
    "VAR_TRANSLATE = {\n",
    "   # 'amsre.latitude': 'lat',\n",
    "   # 'amsre.longitude': 'lon',\n",
    "    'amsre.brightness_temperature6V': 'tb6v',\n",
    "    'amsre.brightness_temperature6H': 'tb6h',\n",
    "    'amsre.percent_land':'percent_land'\n",
    "}\n",
    "# copy variables from source dataset\n",
    "varrays = {}\n",
    "for v in dataset.data_vars:\n",
    "    if v in VAR_TRANSLATE:\n",
    "       # print(v)\n",
    "        # set attributes\n",
    "        vattrs = dataset[v].attrs.copy()\n",
    "        if v not in ['amsre.latitude', 'amsre.longitude', 'amsre.time']:\n",
    "            vattrs[\"coordinates\"] = COORD_ATTR\n",
    "        vattrs[\"_FillValue\"] = FLOAT_FILLVALUE\n",
    "        \n",
    "        values = np.ma.fix_invalid(dataset[v].values[:,10,10])\n",
    "        # create new data array\n",
    "        varrays[VAR_TRANSLATE[v]] = xr.DataArray(\n",
    "            values.filled(FLOAT_FILLVALUE).astype(np.float32,copy=False),\n",
    "            dims=['time'],\n",
    "            attrs=vattrs\n",
    "        )\n",
    "\n",
    "      \n",
    "# 1. wind speed\n",
    "vattrs = dataset['amsre.nwp.10m_east_wind_component'].attrs.copy()\n",
    "vattrs['standard_name'] = 'wind_speed'\n",
    "vattrs['long_name'] = 'wind_speed'\n",
    "vattrs['valid_min'] = 0\n",
    "vattrs['valid_max'] = 100\n",
    "vattrs[\"_FillValue\"] = FLOAT_FILLVALUE\n",
    "vattrs[\"coordinates\"] = COORD_ATTR\n",
    "WS_10m=(dataset['amsre.nwp.10m_east_wind_component'].values[:,2,2]**2 + dataset['amsre.nwp.10m_north_wind_component'].values[:,2,2]**2)**.5\n",
    "varrays['wind_speed'] = xr.DataArray(\n",
    "    WS_10m.astype(np.float32,copy=False),\n",
    "    dims=['time'],\n",
    "    attrs=vattrs\n",
    "    )\n",
    "\n",
    "# 2. wind direction\n",
    "vattrs = dataset['amsre.nwp.10m_east_wind_component'].attrs.copy()\n",
    "vattrs['standard_name'] = 'wind_to_direction'\n",
    "vattrs['long_name'] = 'local wind direction'\n",
    "vattrs['valid_min'] = 0\n",
    "vattrs['valid_max'] = 360\n",
    "vattrs[\"_FillValue\"] = FLOAT_FILLVALUE\n",
    "vattrs['units'] = 'degrees'\n",
    "vattrs[\"coordinates\"] = COORD_ATTR\n",
    "WD=np.arctan2(dataset['amsre.nwp.10m_east_wind_component'].values[:,2,2], dataset['amsre.nwp.10m_east_wind_component'].values[:,2,2])*180/3.14159\n",
    "WD=np.where(WD<0,WD+360,WD)\n",
    "varrays['wind_direction'] = xr.DataArray(\n",
    "    WD.astype(np.float32,copy=False),\n",
    "    dims=['time'],\n",
    "    attrs=vattrs\n",
    "    )\n",
    "\n",
    "# 3. time\n",
    "vattrs = ds['amsre.time'].attrs.copy()\n",
    "vattrs[\"_FillValue\"] = DOUBLE_FILLVALUE\n",
    "values = np.ma.fix_invalid(ds['amsre.time'].values[:,10,10])\n",
    "vtime = xr.DataArray(\n",
    "    values.filled(FLOAT_FILLVALUE).astype(np.float64,copy=False),\n",
    "    dims=['time'],\n",
    "    attrs=vattrs\n",
    "    )\n",
    "\n",
    "# create Dataset and save\n",
    "l3r = xr.Dataset(varrays,coords = {'time': vtime, 'lon':lon, 'lat':lat})\n",
    "#l3r = xr.Dataset(varrays,coords = { 'lon':lon, 'lat':lat})\n",
    "\n",
    "# embellishments\n",
    "\n",
    "#indicative_date_time=pd.to_datetime(str(time_usv[0].data)).strftime(\"%Y%m%d%H%M%S\")\n",
    "#Product_string = astr_platform #   str(ds.TEMP_CTD_MEAN.vendor_name) + '_' + str(ds.TEMP_CTD_MEAN.serial_number)\n",
    "#filename_L3R = dir_out + indicative_date_time + \\\n",
    "#    '-' + ISDP + '-' + 'L3R' + '-' + SST_type + '-' +Product_string+ '-v' +Annex_version+ '-fv' +File_version+ '.nc'\n",
    "#filename_L3R_test = dir_out + indicative_date_time + \\\n",
    "#    '-' + ISDP + '-' + 'L3R' + '-' + SST_type + '-' +Product_string+ '-v' +Annex_version+ '-fv' +File_version+ 'test.nc'\n",
    "#filename_L3R\n",
    "#l3r.to_netcdf(filename_L3R)\n",
    "#for some reason the time not decoded is off by about 28 seconds so reset to original decoded time here\n",
    "#l3r['time']=ds.time[0,:].data                 \n",
    "#l3r.to_netcdf(filename_L3R)\n"
   ]
  },
  {
   "cell_type": "code",
   "execution_count": 29,
   "metadata": {},
   "outputs": [
    {
     "data": {
      "text/plain": [
       "<xarray.Dataset>\n",
       "Dimensions:         (lat: 23720, lon: 23720, time: 23720)\n",
       "Coordinates:\n",
       "  * lat             (lat) float32 39.614376 39.59646 39.614376 39.614376 ...\n",
       "  * lon             (lon) float32 -72.345894 -72.44433 -72.345894 -72.345894 ...\n",
       "  * time            (time) float64 2.973e+08 2.973e+08 2.973e+08 2.973e+08 ...\n",
       "Data variables:\n",
       "    wind_speed      (time) float32 3.7131388 3.737744 3.7131388 3.7131388 ...\n",
       "    wind_direction  (time) float32 45.00004 45.00004 45.00004 45.00004 ...\n",
       "    tb6h            (time) float32 -24978.0 -24975.0 -24978.0 -24978.0 ...\n",
       "    percent_land    (time) float32 0.0 0.0 0.0 0.0 28.0 28.0 28.0 28.0 28.0 ...\n",
       "    tb6v            (time) float32 -16363.0 -16359.0 -16363.0 -16363.0 ..."
      ]
     },
     "execution_count": 29,
     "metadata": {},
     "output_type": "execute_result"
    }
   ],
   "source": [
    "l3r"
   ]
  },
  {
   "cell_type": "code",
   "execution_count": 63,
   "metadata": {},
   "outputs": [],
   "source": [
    "from scipy.interpolate import griddata\n",
    "xlat=range(-90,90)\n",
    "xlon=range(-180,180)\n",
    "#l3r_map=l3r.interp(lat=xlat,lon=xlon)\n",
    "grid_x, grid_y = np.mgrid[-180:180:.25, -90:90:.25]\n",
    "grid_z0 = griddata((l3r.lon.values,l3r.lat.values),l3r.percent_land.values, (grid_x, grid_y), method='linear')"
   ]
  },
  {
   "cell_type": "code",
   "execution_count": 60,
   "metadata": {},
   "outputs": [
    {
     "data": {
      "text/plain": [
       "<matplotlib.image.AxesImage at 0x187c80b8>"
      ]
     },
     "execution_count": 60,
     "metadata": {},
     "output_type": "execute_result"
    },
    {
     "data": {
      "image/png": "[encoded data removed]",
      "text/plain": [
       "<Figure size 432x288 with 1 Axes>"
      ]
     },
     "metadata": {
      "needs_background": "light"
     },
     "output_type": "display_data"
    }
   ],
   "source": [
    "import matplotlib.pyplot as plt\n",
    "plt.subplot(221)\n",
    "#plt.imshow(grid_y.T, extent=(-180,180,-90,90), origin='lower')\n",
    "plt.imshow(grid_z0.T, extent=(-180,180,-90,90), origin='lower')"
   ]
  },
  {
   "cell_type": "code",
   "execution_count": 115,
   "metadata": {},
   "outputs": [
    {
     "name": "stdout",
     "output_type": "stream",
     "text": [
      "(1441, 721)\n"
     ]
    }
   ],
   "source": [
    "ilen=l3r.time.shape[0]\n",
    "gmap= np.zeros((1441,721))*np.nan\n",
    "print(gmap.shape)\n",
    "for i in range(0,ilen):\n",
    "    ilon=int(round((l3r.lon.data[i]+179.875)/.25+1,0))\n",
    "    ilat=int(round((l3r.lat.data[i]+89.875)/.25+1,0))\n",
    "    gmap[ilon,ilat]=l3r.percent_land.data[i]"
   ]
  },
  {
   "cell_type": "code",
   "execution_count": 108,
   "metadata": {},
   "outputs": [
    {
     "name": "stderr",
     "output_type": "stream",
     "text": [
      "C:\\Users\\gentemann\\Anaconda3\\lib\\site-packages\\numpy\\core\\_methods.py:28: RuntimeWarning: invalid value encountered in reduce\n",
      "  return umr_maximum(a, axis, None, out, keepdims, initial)\n"
     ]
    },
    {
     "data": {
      "text/plain": [
       "nan"
      ]
     },
     "execution_count": 108,
     "metadata": {},
     "output_type": "execute_result"
    }
   ],
   "source": []
  },
  {
   "cell_type": "code",
   "execution_count": 121,
   "metadata": {},
   "outputs": [
    {
     "data": {
      "text/plain": [
       "<matplotlib.image.AxesImage at 0x17ae1198>"
      ]
     },
     "execution_count": 121,
     "metadata": {},
     "output_type": "execute_result"
    },
    {
     "data": {
      "image/png": "[encoded data removed]",
      "text/plain": [
       "<Figure size 432x288 with 1 Axes>"
      ]
     },
     "metadata": {
      "needs_background": "light"
     },
     "output_type": "display_data"
    },
    {
     "data": {
      "image/png": "[encoded data removed]",
      "text/plain": [
       "<Figure size 1440x720 with 1 Axes>"
      ]
     },
     "metadata": {
      "needs_background": "light"
     },
     "output_type": "display_data"
    }
   ],
   "source": [
    "plt.subplot(211)\n",
    "plt.figure(figsize=(20,10))\n",
    "plt.imshow(gmap.T)"
   ]
  },
  {
   "cell_type": "code",
   "execution_count": null,
   "metadata": {},
   "outputs": [],
   "source": []
  }
 ],
 "metadata": {
  "kernelspec": {
   "display_name": "Python 3",
   "language": "python",
   "name": "python3"
  },
  "language_info": {
   "codemirror_mode": {
    "name": "ipython",
    "version": 3
   },
   "file_extension": ".py",
   "mimetype": "text/x-python",
   "name": "python",
   "nbconvert_exporter": "python",
   "pygments_lexer": "ipython3",
   "version": "3.5.6"
  }
 },
 "nbformat": 4,
 "nbformat_minor": 2
}
