{
 "cells": [
  {
   "cell_type": "code",
   "execution_count": null,
   "metadata": {},
   "outputs": [],
   "source": [
    "import xarray as xr"
   ]
  },
  {
   "cell_type": "code",
   "execution_count": null,
   "metadata": {},
   "outputs": [],
   "source": [
    "adir_usv = 'C:/Users/gentemann/Google Drive/public/2019_saildrone/'\n",
    "name_usv = 'arctic2019_1033'\n",
    "filename = adir_usv + name_usv + 'AMSR2MMDB_filesave2_testing.nc'\n",
    "ds = xr.open_dataset(filename)\n",
    "ds"
   ]
  },
  {
   "cell_type": "code",
   "execution_count": null,
   "metadata": {},
   "outputs": [],
   "source": [
    "ds.filenames"
   ]
  },
  {
   "cell_type": "code",
   "execution_count": null,
   "metadata": {},
   "outputs": [],
   "source": [
    "filename = adir_usv + name_usv + 'AMSR2MMDB_usv2_testing.nc'\n",
    "ds = xr.open_dataset(filename)\n",
    "ds\n"
   ]
  },
  {
   "cell_type": "code",
   "execution_count": null,
   "metadata": {},
   "outputs": [],
   "source": [
    "ilen,index = ds['insitu.time'].size,0\n",
    "print(ilen)\n",
    "print('index',index)\n"
   ]
  },
  {
   "cell_type": "code",
   "execution_count": null,
   "metadata": {},
   "outputs": [],
   "source": [
    "ds['insitu.sea_surface_temperature'].plot()\n",
    "ds['insitu.sea_surface_temperature'].plot()"
   ]
  },
  {
   "cell_type": "code",
   "execution_count": null,
   "metadata": {},
   "outputs": [],
   "source": [
    "ds['amsr2_dist'].where(ds['amsr2_dist']<10000).plot()"
   ]
  },
  {
   "cell_type": "code",
   "execution_count": null,
   "metadata": {},
   "outputs": [],
   "source": [
    "ds['amsr2_scan'].where(ds['amsr2_dist']<10000).plot()"
   ]
  },
  {
   "cell_type": "code",
   "execution_count": 2,
   "metadata": {},
   "outputs": [],
   "source": [
    "import sys\n",
    "import numpy as np\n",
    "import xarray as xr\n",
    "#from glob import glob\n",
    "from pyresample import image, geometry, load_area, save_quicklook, SwathDefinition, area_def2basemap\n",
    "from pyresample.kd_tree import resample_nearest\n",
    "sys.path.append('./subroutines/')\n",
    "from read_routines import read_usv, get_filelist_amsr2_l1r,get_orbital_data_amsr2\n"
   ]
  },
  {
   "cell_type": "code",
   "execution_count": null,
   "metadata": {},
   "outputs": [],
   "source": [
    "iusv=8\n",
    "ds_usv,name_usv = read_usv(adir_usv,iusv)\n",
    "ds_usv.TEMP_CTD_MEAN.plot()"
   ]
  },
  {
   "cell_type": "code",
   "execution_count": 4,
   "metadata": {},
   "outputs": [
    {
     "data": {
      "text/plain": [
       "<xarray.Dataset>\n",
       "Dimensions:                        (time: 177945)\n",
       "Coordinates:\n",
       "    trajectory                     float32 ...\n",
       "    lat                            (time) float64 ...\n",
       "    lon                            (time) float64 ...\n",
       "  * time                           (time) datetime64[ns] 2018-07-17T18:00:00 ... 2018-11-27T19:59:00\n",
       "Data variables:\n",
       "    SOG                            (time) float64 ...\n",
       "    COG                            (time) float64 ...\n",
       "    HDG                            (time) float64 ...\n",
       "    HDG_WING                       (time) float64 ...\n",
       "    ROLL                           (time) float64 ...\n",
       "    PITCH                          (time) float64 ...\n",
       "    WING_ANGLE                     (time) float64 ...\n",
       "    BARO_PRES_MEAN                 (time) float64 ...\n",
       "    BARO_PRES_STDDEV               (time) float64 ...\n",
       "    TEMP_AIR_MEAN                  (time) float64 ...\n",
       "    TEMP_AIR_STDDEV                (time) float64 ...\n",
       "    RH_MEAN                        (time) float64 ...\n",
       "    RH_STDDEV                      (time) float64 ...\n",
       "    PAR_AIR_MEAN                   (time) float64 ...\n",
       "    PAR_AIR_STDDEV                 (time) float64 ...\n",
       "    TEMP_IR_UNCOR_MEAN             (time) float64 ...\n",
       "    TEMP_IR_UNCOR_STDDEV           (time) float64 ...\n",
       "    UWND_MEAN                      (time) float64 ...\n",
       "    UWND_STDDEV                    (time) float64 ...\n",
       "    VWND_MEAN                      (time) float64 ...\n",
       "    VWND_STDDEV                    (time) float64 ...\n",
       "    WWND_MEAN                      (time) float64 ...\n",
       "    WWND_STDDEV                    (time) float64 ...\n",
       "    GUST_WND_MEAN                  (time) float64 ...\n",
       "    GUST_WND_STDDEV                (time) float64 ...\n",
       "    TEMP_CTD_MEAN                  (time) float64 ...\n",
       "    TEMP_CTD_STDDEV                (time) float64 ...\n",
       "    COND_MEAN                      (time) float64 ...\n",
       "    COND_STDDEV                    (time) float64 ...\n",
       "    SAL_MEAN                       (time) float64 ...\n",
       "    SAL_STDDEV                     (time) float64 ...\n",
       "    O2_RBR_CONC_MEAN               (time) float64 ...\n",
       "    O2_RBR_CONC_STDDEV             (time) float64 ...\n",
       "    O2_RBR_SAT_MEAN                (time) float64 ...\n",
       "    O2_RBR_SAT_STDDEV              (time) float64 ...\n",
       "    TEMP_O2_RBR_MEAN               (time) float64 ...\n",
       "    TEMP_O2_RBR_STDDEV             (time) float64 ...\n",
       "    O2_AANDERAA_CONC_UNCOR_MEAN    (time) float64 ...\n",
       "    O2_AANDERAA_CONC_UNCOR_STDDEV  (time) float64 ...\n",
       "    O2_AANDERAA_SAT_MEAN           (time) float64 ...\n",
       "    O2_AANDERAA_SAT_STDDEV         (time) float64 ...\n",
       "    TEMP_O2_AANDERAA_MEAN          (time) float64 ...\n",
       "    TEMP_O2_AANDERAA_STDDEV        (time) float64 ...\n",
       "    CHLOR_MEAN                     (time) float64 ...\n",
       "    CHLOR_STDDEV                   (time) float64 ...\n",
       "Attributes:\n",
       "    Conventions:               CF-1.6\n",
       "    netcdf_version:            4\n",
       "    Metadata_Conventions:      Unidata Dataset Discovery v1.3\n",
       "    featureType:               trajectory\n",
       "    cdm_data_type:             Trajectory\n",
       "    nodc_template_version:     NODC_NetCDF_Trajectory_Template_v2.0\n",
       "    standard_name_vocabulary:  CF-1.6, ACDD-1.3P\n",
       "    description:               Saildrone NetCDF format\n",
       "    creator_name:              Saildrone\n",
       "    platform:                  Saildrone\n",
       "    institution:               Saildrone\n",
       "    creator_email:             support@saildrone.com\n",
       "    creator_url:               http://saildrone.com/\n",
       "    date_created:              2018-08-03T16:26:14.330940Z\n",
       "    area:                      unassigned\n",
       "    title:                     west_coast_survey_2018_sd1024_2018-07-17T18:00...\n",
       "    summary:                   None\n",
       "    data_mode:                 realtime\n",
       "    drone_id:                  1024\n",
       "    request_id:                1561\n",
       "    interval:                  60.0\n",
       "    project:                   west_coast_survey_2018\n",
       "    geospatial_lat_min:        38.230176\n",
       "    geospatial_lat_max:        38.374784\n",
       "    geospatial_lat_units:      degrees_north\n",
       "    geospatial_lon_min:        -124.1948032\n",
       "    geospatial_lon_max:        -123.92736\n",
       "    geospatial_lon_units:      degrees_east\n",
       "    time_coverage_start:       1531850400.0\n",
       "    time_coverage_end:         1531871940.0"
      ]
     },
     "execution_count": 4,
     "metadata": {},
     "output_type": "execute_result"
    }
   ],
   "source": [
    "adir_usv = 'C:/Users/gentemann/Google Drive/public/2019_saildrone/'\n",
    "filename = adir_usv + 'wcoast_2018_sd1024-ALL-1_min-v1.nc'\n",
    "ds = xr.open_dataset(filename)\n",
    "ds"
   ]
  },
  {
   "cell_type": "code",
   "execution_count": null,
   "metadata": {},
   "outputs": [],
   "source": []
  }
 ],
 "metadata": {
  "kernelspec": {
   "display_name": "Python 3",
   "language": "python",
   "name": "python3"
  },
  "language_info": {
   "codemirror_mode": {
    "name": "ipython",
    "version": 3
   },
   "file_extension": ".py",
   "mimetype": "text/x-python",
   "name": "python",
   "nbconvert_exporter": "python",
   "pygments_lexer": "ipython3",
   "version": "3.7.1"
  }
 },
 "nbformat": 4,
 "nbformat_minor": 2
}
