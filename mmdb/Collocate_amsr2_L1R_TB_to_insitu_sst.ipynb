{
 "cells": [
  {
   "cell_type": "markdown",
   "metadata": {},
   "source": [
    "# This is the in situ and SSS collocation code. \n"
   ]
  },
  {
   "cell_type": "code",
   "execution_count": 1,
   "metadata": {},
   "outputs": [
    {
     "name": "stderr",
     "output_type": "stream",
     "text": [
      "C:\\Users\\gentemann\\Miniconda3\\envs\\satenv\\lib\\site-packages\\xarray\\core\\merge.py:17: FutureWarning: The Panel class is removed from pandas. Accessing it from the top-level namespace will also be removed in the next version\n",
      "  PANDAS_TYPES = (pd.Series, pd.DataFrame, pd.Panel)\n"
     ]
    }
   ],
   "source": [
    "import os\n",
    "import numpy as np\n",
    "import matplotlib.pyplot as plt\n",
    "import datetime as dt\n",
    "import pandas as pd\n",
    "import xarray as xr\n",
    "import scipy\n",
    "from glob import glob\n",
    "import cartopy.crs as ccrs\n",
    "from pyresample.geometry import AreaDefinition\n",
    "from pyresample import image, geometry, load_area, save_quicklook, SwathDefinition, area_def2basemap\n",
    "from pyresample.kd_tree import resample_nearest\n",
    "from math import radians, cos, sin, asin, sqrt\n",
    "from scipy import spatial\n",
    "import os.path\n",
    "from os import path\n",
    "import gzip\n",
    "import shutil\n"
   ]
  },
  {
   "cell_type": "markdown",
   "metadata": {},
   "source": [
    "# Define a function to read in insitu data\n",
    "- Read in the Saildrone USV file either from a local disc or using OpenDAP.\n",
    "- add room to write collocated data to in situ dataset\n"
   ]
  },
  {
   "cell_type": "code",
   "execution_count": 2,
   "metadata": {},
   "outputs": [],
   "source": [
    "def read_usv(iusv):\n",
    "#    filename_usv_list = ['F:/data/cruise_data/saildrone/noaa_arctic/PMEL_2015/126/pmel_2015_sd126-ALL-1_min-v1.nc',\n",
    "#                         'F:/data/cruise_data/saildrone/noaa_arctic/PMEL_2015/128/pmel_2015_sd128-ALL-1_min-v1.nc',\n",
    "#                         'F:/data/cruise_data/saildrone/noaa_arctic/PMEL_2016/126/pmel_2016_sd126-ALL-1_min-v1.nc',\n",
    "#                         'F:/data/cruise_data/saildrone/noaa_arctic/PMEL_2016/128/pmel_2016_sd128-ALL-1_min-v1.nc',\n",
    "#                         'F:/data/cruise_data/saildrone/2019_arctic/daily_files/arctic_2019_sd1033-ALL-1_min-v1.nc',\n",
    "#                         'F:/data/cruise_data/saildrone/2019_arctic/daily_files/arctic_2019_sd1034-ALL-1_min-v1.nc',\n",
    "#                         'F:/data/cruise_data/saildrone/2019_arctic/daily_files/arctic_2019_sd1035-ALL-1_min-v1.nc',\n",
    "#                         'F:/data/cruise_data/saildrone/2019_arctic/daily_files/arctic_2019_sd1036-ALL-1_min-v1.nc',\n",
    "#                         'F:/data/cruise_data/saildrone/2019_arctic/daily_files/arctic_2019_sd1037-ALL-1_min-v1.nc',\n",
    "#                        'F:/data/cruise_data/saildrone/antarctic/saildrone-gen_5-antarctica_circumnavigation_2019-sd1020-20190119T040000-20190803T043000-1440_minutes-v1.1564857794963.nc']\n",
    "    filename_usv_list = ['C:/Users/gentemann/Google Drive/private/tem_saildrone/pmel_2015_sd126-ALL-1_min-v1.nc',\n",
    "                         'C:/Users/gentemann/Google Drive/private/tem_saildrone/pmel_2015_sd128-ALL-1_min-v1.nc',\n",
    "                         'C:/Users/gentemann/Google Drive/private/tem_saildrone/pmel_2016_sd126-ALL-1_min-v1.nc',\n",
    "                         'C:/Users/gentemann/Google Drive/private/tem_saildrone/pmel_2016_sd128-ALL-1_min-v1.nc',\n",
    "                         'C:/Users/gentemann/Google Drive/private/tem_saildrone/arctic_2019_sd1033-ALL-1_min-v1.nc',\n",
    "                         'C:/Users/gentemann/Google Drive/private/tem_saildrone/arctic_2019_sd1034-ALL-1_min-v1.nc',\n",
    "                         'C:/Users/gentemann/Google Drive/private/tem_saildrone/arctic_2019_sd1035-ALL-1_min-v1.nc',\n",
    "                         'C:/Users/gentemann/Google Drive/private/tem_saildrone/arctic_2019_sd1036-ALL-1_min-v1.nc',\n",
    "                         'C:/Users/gentemann/Google Drive/private/tem_saildrone/arctic_2019_sd1037-ALL-1_min-v1.nc',\n",
    "                         'C:/Users/gentemann/Google Drive/private/tem_saildrone/saildrone-gen_5-antarctica_circumnavigation_2019-sd1020-20190119T040000-20190803T043000-1440_minutes-v1.1564857794963.nc']\n",
    "    name_usv_list = ['arctic2015_126',\n",
    "                     'arctic2015_128',\n",
    "                     'arctic2016_126',\n",
    "                     'arctic2016_128',\n",
    "                     'arctic2019_1033',\n",
    "                     'arctic2019_1034',\n",
    "                     'arctic2019_1035',\n",
    "                     'arctic2019_1036',\n",
    "                     'arctic2019_1037',\n",
    "                    'antarctic2019']\n",
    "\n",
    "    filename_usv = filename_usv_list[iusv]\n",
    "#    if iusv==3:\n",
    "#    elif iusv<3:\n",
    "#    elif (iusv>3) & (iusv<8):\n",
    "    ds_usv = xr.open_dataset(filename_usv)\n",
    "    ds_usv.close()\n",
    "#NEED TO FIND OUT IF wind_speed is to/from wind_direction ?\n",
    "    if (iusv==0 or iusv==1):  #1033\n",
    "        ds_usv = ds_usv.rename({'temp_air_mean':'TEMP_AIR_MEAN','rh_mean':'RH_MEAN','baro_pres_mean':'BARO_PRES_MEAN',\n",
    "                                'sal_mean':'SAL_MEAN','temp_ctd_mean':'TEMP_CTD_MEAN','temp_o2_mean':'TEMP_O2_MEAN',\n",
    "                                'chlor_mean':'CHLOR_MEAN','gust_wnd_mean':'GUST_WND_MEAN'})\n",
    "        tem_att=ds_usv.wind_speed_mean.attrs\n",
    "        ds_usv['wind_speed_mean']=ds_usv.wind_speed_mean*.51444\n",
    "        ds_usv.wind_speed_mean.attrs=tem_att\n",
    "        ds_usv.wind_speed_mean.attrs['units']='m s-1'\n",
    "        uwnd = ds_usv.wind_speed_mean*np.cos(np.deg2rad(ds_usv.wind_direction_mean))\n",
    "        vwnd = ds_usv.wind_speed_mean*np.sin(np.deg2rad(ds_usv.wind_direction_mean))\n",
    "        ds_usv['UWND_MEAN']=uwnd\n",
    "        ds_usv.UWND_MEAN.attrs={'standard_name':'eastward_wind','long_name':'Eastward wind speed','units':'m s-1','installed_height':'5.2'}\n",
    "        ds_usv['VWND_MEAN']=vwnd\n",
    "        ds_usv.VWND_MEAN.attrs={'standard_name':'northward_wind','long_name':'Northward wind speed','units':'m s-1','installed_height':'5.2'}\n",
    "        ilen = ds_usv.time.shape[0]\n",
    "        ds_usv['WWND_MEAN']=xr.DataArray(np.ones(ilen)*np.nan,coords={'time':ds_usv.time},dims=('time'))\n",
    "        ds_usv.WWND_MEAN.attrs={'standard_name':'upward_wind_velocity','long_name':'upward wind speed','units':'m s-1','installed_height':'5.2'}\n",
    "    if (iusv==2 or iusv==3):  #1033\n",
    "        ds_usv = ds_usv.rename({'temp_air_mean':'TEMP_AIR_MEAN','rh_mean':'RH_MEAN','baro_pres_mean':'BARO_PRES_MEAN',\n",
    "                                'sal_mean':'SAL_MEAN','temp_ctd_mean':'TEMP_CTD_MEAN','temp_o2_mean':'TEMP_O2_MEAN',\n",
    "                                'chlor_mean':'CHLOR_MEAN','gust_wnd_mean':'GUST_WND_MEAN'})\n",
    "        tem_att=ds_usv.wind_speed.attrs\n",
    "        ds_usv['wind_speed']=ds_usv.wind_speed*.51444\n",
    "        ds_usv.wind_speed.attrs=tem_att\n",
    "        ds_usv.wind_speed.attrs['units']='m s-1'\n",
    "        uwnd = ds_usv.wind_speed*np.cos(np.deg2rad(ds_usv.wind_direction))\n",
    "        vwnd = ds_usv.wind_speed*np.sin(np.deg2rad(ds_usv.wind_direction))\n",
    "        ds_usv['UWND_MEAN']=uwnd\n",
    "        ds_usv.UWND_MEAN.attrs={'standard_name':'eastward_wind','long_name':'Eastward wind speed','units':'m s-1','installed_height':'5.2'}\n",
    "        ds_usv['VWND_MEAN']=vwnd\n",
    "        ds_usv.VWND_MEAN.attrs={'standard_name':'northward_wind','long_name':'Northward wind speed','units':'m s-1','installed_height':'5.2'}\n",
    "        ilen = ds_usv.time.shape[0]\n",
    "        ds_usv['WWND_MEAN']=xr.DataArray(np.ones(ilen)*np.nan,coords={'time':ds_usv.time},dims=('time'))\n",
    "        ds_usv.WWND_MEAN.attrs={'standard_name':'upward_wind_velocity','long_name':'upward wind speed','units':'m s-1','installed_height':'5.2'}\n",
    "    if iusv==4:  #1033\n",
    "        ds_usv = ds_usv.rename({'TEMP_CTD_RBR_MEAN':'TEMP_CTD_MEAN','TEMP_O2_RBR_MEAN':'TEMP_O2_MEAN','SAL_RBR_MEAN':'SAL_MEAN','CHLOR_WETLABS_MEAN':'CHLOR_MEAN'})\n",
    "    if iusv==5:  #1034\n",
    "        ds_usv = ds_usv.rename({'TEMP_CTD_RBR_MEAN':'TEMP_CTD_MEAN','TEMP_O2_RBR_MEAN':'TEMP_O2_MEAN','SAL_RBR_MEAN':'SAL_MEAN','CHLOR_WETLABS_MEAN':'CHLOR_MEAN'})\n",
    "    if iusv==6:  #1035\n",
    "        ds_usv = ds_usv.rename({'TEMP_CTD_RBR_MEAN':'TEMP_CTD_MEAN','TEMP_O2_RBR_MEAN':'TEMP_O2_MEAN','SAL_RBR_MEAN':'SAL_MEAN','CHLOR_WETLABS_MEAN':'CHLOR_MEAN'})\n",
    "    if iusv==7:  #1036\n",
    "        ds_usv = ds_usv.isel(time=slice(100,-1))                                                                   #        ds_usv = ds_usv.rename({'TEMP_CTD_RBR_MEAN':'TEMP_CTD_MEAN','TEMP_O2_RBR_MEAN':'TEMP_O2_MEAN','SAL_RBR_MEAN':'SAL_MEAN','CHLOR_WETLABS_MEAN':'CHLOR_MEAN'})\n",
    "        ds_usv = ds_usv.rename({'TEMP_CTD_RBR_MEAN':'TEMP_CTD_MEAN','TEMP_O2_RBR_MEAN':'TEMP_O2_MEAN','SAL_RBR_MEAN':'SAL_MEAN','CHLOR_WETLABS_MEAN':'CHLOR_MEAN'})\n",
    "    if iusv==8:  #1037\n",
    "        ds_usv = ds_usv.rename({'TEMP_CTD_RBR_MEAN':'TEMP_CTD_MEAN','TEMP_O2_RBR_MEAN':'TEMP_O2_MEAN'})\n",
    "    if iusv==9:  #1037\n",
    "        ds_usv = ds_usv.isel(trajectory=0).swap_dims({'obs':'time'}).rename({'latitude':'lat','longitude':'lon','TEMP_O2_RBR_MEAN':'TEMP_O2_MEAN'})#TEMP_CTD_RBR_MEAN':'TEMP_\n",
    "    if (iusv==9 or iusv<=3):\n",
    "        ilen = ds_usv.time.shape[0]\n",
    "        ds_usv['WIND_HEIGHT_MEAN']=xr.DataArray(np.ones(ilen)*np.nan,coords={'time':ds_usv.time},dims=('time'))\n",
    "        ds_usv.WIND_HEIGHT_MEAN.attrs={'long_name':'Wind measurement height','units':'m','installed_height':'5.2'}\n",
    "        ds_usv['WAVE_DOMINANT_PERIOD']=xr.DataArray(np.ones(ilen)*np.nan,coords={'time':ds_usv.time},dims=('time'))\n",
    "        ds_usv.WAVE_DOMINANT_PERIOD.attrs={'standard_name':'sea_surface_wave_period_at_variance_spectral_density_maximum','long_name':'Dominant wave period','units':'s','installed_height':'0.34'}\n",
    "        ds_usv['WAVE_SIGNIFICANT_HEIGHT']=xr.DataArray(np.ones(ilen)*np.nan,coords={'time':ds_usv.time},dims=('time'))\n",
    "        ds_usv.WAVE_SIGNIFICANT_HEIGHT.attrs={'standard_name':'sea_surface_wave_significant_height','long_name':'Significant wave height','units':'m','installed_height':'0.34'}\n",
    "\n",
    "    #add room to write collocated data information\n",
    "    ilen = ds_usv.time.shape[0]\n",
    "    ds_usv['deltaT']=xr.DataArray(np.ones(ilen)*999999,coords={'time':ds_usv.time},dims=('time'))\n",
    "    ds_usv['amsr2_name']=xr.DataArray(np.empty(ilen,dtype=str),coords={'time':ds_usv.time},dims=('time'))\n",
    "    ds_usv['amsr2_dist']=xr.DataArray(np.ones(ilen)*999999,coords={'time':ds_usv.time},dims=('time'))\n",
    "    ds_usv['amsr2_ydim']=xr.DataArray(np.ones(ilen)*999999,coords={'time':ds_usv.time},dims=('time'))\n",
    "    ds_usv['amsr2_xdim']=xr.DataArray(np.ones(ilen)*999999,coords={'time':ds_usv.time},dims=('time'))\n",
    "\n",
    "    return ds_usv,name_usv_list[iusv]"
   ]
  },
  {
   "cell_type": "code",
   "execution_count": 3,
   "metadata": {},
   "outputs": [
    {
     "data": {
      "text/plain": [
       "<xarray.Dataset>\n",
       "Dimensions:                        (time: 196)\n",
       "Coordinates:\n",
       "    trajectory                     float32 1020.0\n",
       "  * time                           (time) datetime64[ns] 2019-01-20 ... 2019-08-03\n",
       "    lat                            (time) float64 ...\n",
       "    lon                            (time) float64 ...\n",
       "Data variables:\n",
       "    SOG                            (time) float64 ...\n",
       "    COG                            (time) float64 ...\n",
       "    HDG                            (time) float64 ...\n",
       "    HDG_WING                       (time) float64 ...\n",
       "    ROLL                           (time) float64 ...\n",
       "    PITCH                          (time) float64 ...\n",
       "    WING_ANGLE                     (time) float64 ...\n",
       "    BARO_PRES_MEAN                 (time) float64 ...\n",
       "    BARO_PRES_STDDEV               (time) float64 ...\n",
       "    TEMP_AIR_MEAN                  (time) float64 ...\n",
       "    TEMP_AIR_STDDEV                (time) float64 ...\n",
       "    RH_MEAN                        (time) float64 ...\n",
       "    RH_STDDEV                      (time) float64 ...\n",
       "    PAR_AIR_MEAN                   (time) float64 ...\n",
       "    PAR_AIR_STDDEV                 (time) float64 ...\n",
       "    TEMP_IR_UNCOR_MEAN             (time) float64 ...\n",
       "    TEMP_IR_UNCOR_STDDEV           (time) float64 ...\n",
       "    UWND_MEAN                      (time) float64 ...\n",
       "    UWND_STDDEV                    (time) float64 ...\n",
       "    VWND_MEAN                      (time) float64 ...\n",
       "    VWND_STDDEV                    (time) float64 ...\n",
       "    WWND_MEAN                      (time) float64 ...\n",
       "    WWND_STDDEV                    (time) float64 ...\n",
       "    GUST_WND_MEAN                  (time) float64 ...\n",
       "    GUST_WND_STDDEV                (time) float64 ...\n",
       "    TEMP_CTD_MEAN                  (time) float64 ...\n",
       "    TEMP_CTD_STDDEV                (time) float64 ...\n",
       "    COND_MEAN                      (time) float64 ...\n",
       "    COND_STDDEV                    (time) float64 ...\n",
       "    SAL_MEAN                       (time) float64 ...\n",
       "    SAL_STDDEV                     (time) float64 ...\n",
       "    O2_RBR_CONC_MEAN               (time) float64 ...\n",
       "    O2_RBR_CONC_STDDEV             (time) float64 ...\n",
       "    O2_RBR_SAT_MEAN                (time) float64 ...\n",
       "    O2_RBR_SAT_STDDEV              (time) float64 ...\n",
       "    TEMP_O2_MEAN                   (time) float64 ...\n",
       "    TEMP_O2_RBR_STDDEV             (time) float64 ...\n",
       "    O2_AANDERAA_CONC_UNCOR_MEAN    (time) float64 ...\n",
       "    O2_AANDERAA_CONC_UNCOR_STDDEV  (time) float64 ...\n",
       "    O2_AANDERAA_SAT_MEAN           (time) float64 ...\n",
       "    O2_AANDERAA_SAT_STDDEV         (time) float64 ...\n",
       "    TEMP_O2_AANDERAA_MEAN          (time) float64 ...\n",
       "    TEMP_O2_AANDERAA_STDDEV        (time) float64 ...\n",
       "    CHLOR_MEAN                     (time) float64 ...\n",
       "    CHLOR_STDDEV                   (time) float64 ...\n",
       "    WIND_HEIGHT_MEAN               (time) float64 nan nan nan ... nan nan nan\n",
       "    WAVE_DOMINANT_PERIOD           (time) float64 nan nan nan ... nan nan nan\n",
       "    WAVE_SIGNIFICANT_HEIGHT        (time) float64 nan nan nan ... nan nan nan\n",
       "    deltaT                         (time) float64 1e+06 1e+06 ... 1e+06 1e+06\n",
       "    amsr2_name                     (time) <U1 '' '' '' '' '' ... '' '' '' '' ''\n",
       "    amsr2_dist                     (time) float64 1e+06 1e+06 ... 1e+06 1e+06\n",
       "    amsr2_ydim                     (time) float64 1e+06 1e+06 ... 1e+06 1e+06\n",
       "    amsr2_xdim                     (time) float64 1e+06 1e+06 ... 1e+06 1e+06\n",
       "Attributes:\n",
       "    title:                     Antarctica Circumnavigation Surface Data\n",
       "    summary:                   This data set was collected from the first Sai...\n",
       "    license:                   2019 © SAILDRONE Inc.  All Rights Reserved.  T...\n",
       "    wmo_id:                    4803902\n",
       "    ncei_template_version:     NCEI_NetCDF_Trajectory_Template_v2.0\n",
       "    Conventions:               CF-1.6, ACDD-1.3\n",
       "    netcdf_version:            4.4.1.1\n",
       "    featureType:               trajectory\n",
       "    cdm_data_type:             Trajectory\n",
       "    standard_name_vocabulary:  CF Standard Name Table v58\n",
       "    description:               Saildrone NetCDF Format\n",
       "    creator_name:              Saildrone\n",
       "    platform:                  Saildrone\n",
       "    institution:               Saildrone\n",
       "    creator_email:             support@saildrone.com\n",
       "    creator_url:               http://saildrone.com/\n",
       "    date_created:              2019-08-03T18:42:54.688281Z\n",
       "    interval:                  86400.0\n",
       "    time_coverage_resolution:  P1D\n",
       "    time_coverage_start:       2019-01-19T04:00:00.000000Z\n",
       "    time_coverage_end:         2019-08-03T04:30:00.000000Z\n",
       "    time_coverage_duration:    P196DT30M\n",
       "    area:                      Southern Ocean\n",
       "    data_mode:                 realtime\n",
       "    drone_id:                  1020\n",
       "    id:                        43798\n",
       "    naming_authority:          com.saildrone\n",
       "    uuid:                      25925f4c-42d7-4d23-80de-18bc982e191c\n",
       "    project:                   antarctica_circumnavigation_2019\n",
       "    geospatial_lat_min:        -60.8689472\n",
       "    geospatial_lat_max:        -46.6084672\n",
       "    geospatial_lat_units:      degrees_north\n",
       "    geospatial_lon_min:        -179.884224\n",
       "    geospatial_lon_max:        178.25152\n",
       "    geospatial_lon_units:      degrees_east"
      ]
     },
     "execution_count": 3,
     "metadata": {},
     "output_type": "execute_result"
    }
   ],
   "source": [
    "ds_usv,name=read_usv(9)\n",
    "ds_usv\n",
    "#print(ds_usv.trajectory)\n",
    "#ds_usv\n",
    "#ds_usv.WAVE_SIGNIFICANT_HEIGHT\n",
    "\n",
    "#(ds_usv.TEMP_SBE37_MEAN-ds_usv.TEMP_O2_RBR_MEAN).plot()\n",
    "#(ds_usv.TEMP_CTD_RBR_MEAN-ds_usv.TEMP_O2_RBR_MEAN).plot()\n",
    "#(ds_usv.TEMP_SBE37_MEAN-ds_usv.TEMP_O2_RBR_MEAN).plot()\n",
    "#ds_usv.TEMP_O2_RBR_MEAN[100:].plot()\n",
    "#(ds_usv.TEMP_CTD_RBR_MEAN-ds_usv.TEMP_O2_RBR_MEAN).plot()\n",
    "#(ds_usv.TEMP_O2_AANDERAA_MEAN-ds_usv.TEMP_O2_RBR_MEAN).plot()\n",
    "#(ds_usv.TEMP_CTD_RBR_MEAN-ds_usv.TEMP_SBE37_MEAN).plot()\n",
    "#(ds_usv.SAL_RBR_MEAN-ds_usv.SAL_SBE37_MEAN).plot()\n",
    "#(ds_usv.SAL_MEAN-ds_usv.SAL_SBE37_MEAN).plot()\n",
    "#(ds_usv.SAL_RBR_MEAN).plot()\n",
    "#(ds_usv.SAL_SBE37_MEAN).plot()\n",
    "#(ds_usv.CHLOR_MEAN-ds_usv.CHLOR_RBR_MEAN).plot()\n",
    "#ds_usv.CHLOR_MEAN.plot()\n",
    "#ds_usv.CHLOR_RBR_MEAN.plot()\n",
    "#(ds_usv.CHLOR_RBR_MEAN-ds_usv.CHLOR_WETLABS_MEAN).plot()\n",
    "#(ds_usv.CHLOR_RBR_MEAN).plot()\n",
    "#(ds_usv.CHLOR_WETLABS_MEAN).plot(2\n",
    "#subset=ds_usv.sel(time=slice('2019-06-15T20','2019-06-15T22'))\n",
    "#(subset.TEMP_SBE37_MEAN-subset.TEMP_O2_RBR_MEAN).plot()\n",
    "#(subset.TEMP_CTD_RBR_MEAN-subset.TEMP_O2_RBR_MEAN).plot()\n",
    "#(subset.TEMP_SBE37_MEAN-subset.TEMP_CTD_RBR_MEAN).plot()\n",
    "#(subset.TEMP_O2_RBR_MEAN-subset.TEMP_CTD_RBR_MEAN).plot()\n",
    "#(subset.TEMP_O2_RBR_MEAN-subset.TEMP_SBE37_MEAN).plot()\n",
    "#(subset.TEMP_CTD_RBR_MEAN-subset.TEMP_SBE37_MEAN).plot()\n",
    "#(subset.TEMP_CTD_RBR_MEAN).plot()\n",
    "#subset.TEMP_O2_RBR_MEAN.plot()\n",
    "#subset.TEMP_SBE37_MEAN.plot()\n",
    "#subset=ds_usv.sel(time=slice('2019-07-05T20','2019-07-15T22'))\n",
    "#(subset.SAL_MEAN-subset.SAL_SBE37_MEAN).plot()\n",
    "#(subset.SAL_MEAN).plot()\n",
    "#(subset.SAL_SBE37_MEAN).plot()"
   ]
  },
  {
   "cell_type": "code",
   "execution_count": 12,
   "metadata": {},
   "outputs": [
    {
     "data": {
      "text/plain": [
       "<xarray.DataArray 'filenames' (dim_0: 206)>\n",
       "array(['d:/amsr2/L1r/v2/2015/05/12\\\\GW1AM2_201505121301_075D_L1SGRTBR_2220220.h5.gz',\n",
       "       'd:/amsr2/L1r/v2/2015/05/12\\\\GW1AM2_201505122344_171A_L1SGRTBR_2220220.h5.gz',\n",
       "       'd:/amsr2/L1r/v2/2015/05/13\\\\GW1AM2_201505131344_082D_L1SGRTBR_2220220.h5.gz',\n",
       "       ...,\n",
       "       'd:/amsr2/L1r/v2/2015/07/26\\\\GW1AM2_201507262327_168A_L1SGRTBR_2220220.h5.gz',\n",
       "       'd:/amsr2/L1r/v2/2015/07/27\\\\GW1AM2_201507271327_079D_L1SGRTBR_2220220.h5.gz',\n",
       "       'd:/amsr2/L1r/v2/2015/07/27\\\\GW1AM2_201507272231_159A_L1SGRTBR_2220220.h5.gz'],\n",
       "      dtype=object)\n",
       "Dimensions without coordinates: dim_0"
      ]
     },
     "execution_count": 12,
     "metadata": {},
     "output_type": "execute_result"
    }
   ],
   "source": [
    "#ds2=xr.open_dataset('c:/Users/gentemann/Desktop/temp/mmd06b_sst_drifter-sst_amsr2-gcw1_2012-190_2012-196.nc')\n",
    "#ds2['insitu.id']\n",
    "ds=xr.open_dataset('C:/Users/gentemann/Google Drive/private/tem_saildrone/arctic2015_126AMSR2MMDB_filesave2.nc')\n",
    "ds.filenames"
   ]
  },
  {
   "cell_type": "markdown",
   "metadata": {},
   "source": [
    "\n",
    "## explore the in situ data and quickly plot using cartopy\n",
    "    "
   ]
  },
  {
   "cell_type": "code",
   "execution_count": null,
   "metadata": {},
   "outputs": [],
   "source": [
    "ds_usv,name=read_usv(4)\n",
    "print(ds_usv.time.min().dt.dayofyear.data,ds_usv.time.max().dt.dayofyear.data)\n",
    "ds_usv,name=read_usv(6)\n",
    "print(ds_usv.time.min().dt.dayofyear.data,ds_usv.time.max().dt.dayofyear.data)\n",
    "#ds = xr.open_dataset('https://podaac-opendap.jpl.nasa.gov:443/opendap/allData/insitu/L2/spurs2/saildrone/SPURS2_Saildrone1006.nc')\n",
    "#ds\n"
   ]
  },
  {
   "cell_type": "code",
   "execution_count": null,
   "metadata": {},
   "outputs": [],
   "source": [
    "#ds_usv.time.plot()\n",
    "#subset = ds_usv.sel(time=slice('2018-01-01','2019-01-01'))\n",
    "#print(subset.time.dt.dayofyear)\n",
    "#print(ds_usv.time[0:100].dt.year,ds_usv.time[0:100].dt.dayofyear)\n",
    "#ds_usv.where(ds_usv['lon']>-180)"
   ]
  },
  {
   "cell_type": "code",
   "execution_count": null,
   "metadata": {},
   "outputs": [],
   "source": [
    "for iusv in range(0,5):\n",
    "    ds_usv,usvname = read_usv(iusv)\n",
    "    print(usvname)\n",
    "    #plot cruise SSS with coastlines\n",
    "    if iusv<9:\n",
    "        ax = plt.axes(projection=ccrs.PlateCarree())\n",
    "    if iusv==9:\n",
    "        ax = plt.axes(projection=ccrs.SouthPolarStereo())\n",
    "    #ds_usv = ds_usv.where(np.isfinite(ds_usv.lon))\n",
    "    cs1 = ax.scatter(ds_usv.lon, ds_usv.lat, s=3.0, c=ds_usv.TEMP_CTD_MEAN, edgecolor='none', cmap='jet',vmin=0,vmax=12)\n",
    "    ax.coastlines(resolution='50m')\n",
    "    x1,x2,y1,y2 = ds_usv.lon.min().data-2,ds_usv.lon.max().data+2,ds_usv.lat.min().data-2,ds_usv.lat.max().data+2\n",
    "    ax.set_xlim(x1,x2)\n",
    "    ax.set_ylim(y1,y2)\n",
    "    ax.set_xticks(np.arange(x1,x2,4))\n",
    "    ax.set_yticks(np.arange(y1,y2,5))\n",
    "    cax = plt.colorbar(cs1)\n",
    "    cax.set_label('SST (K)')\n",
    "    fig_fname = 'C:/Users/gentemann/Google Drive/f_drive/docs/projects/misst-arctic/mmdb/'+usvname+'_location.png'\n",
    "    plt.savefig(fig_fname, transparent=False, format='png')\n",
    "    plt.clf()"
   ]
  },
  {
   "cell_type": "code",
   "execution_count": 4,
   "metadata": {
    "scrolled": true
   },
   "outputs": [
    {
     "name": "stdout",
     "output_type": "stream",
     "text": [
      "antarctic2019\n"
     ]
    },
    {
     "data": {
      "text/plain": [
       "<Figure size 432x288 with 0 Axes>"
      ]
     },
     "metadata": {},
     "output_type": "display_data"
    }
   ],
   "source": [
    "for iusv in range(9,10):\n",
    "    ds_usv,usvname = read_usv(iusv)\n",
    "    print(usvname)\n",
    "    ax = plt.axes(projection=ccrs.SouthPolarStereo())\n",
    "    cs1 = ax.scatter(ds_usv.lon, ds_usv.lat, transform=ccrs.PlateCarree(),s=10.0, c=ds_usv.TEMP_CTD_MEAN, edgecolor='none', cmap='jet',vmin=0,vmax=12)\n",
    "    ax.set_extent([-180, 180, -90, -45], crs=ccrs.PlateCarree())\n",
    "    ax.coastlines(resolution='50m')\n",
    "    cax = plt.colorbar(cs1)\n",
    "    cax.set_label('SST (K)')\n",
    "    fig_fname = 'C:/Users/gentemann/Google Drive/f_drive/docs/projects/misst-arctic/mmdb/'+usvname+'_location.png'\n",
    "    plt.savefig(fig_fname, transparent=False, format='png')\n",
    "    plt.clf()\n"
   ]
  },
  {
   "cell_type": "code",
   "execution_count": 13,
   "metadata": {},
   "outputs": [
    {
     "name": "stdout",
     "output_type": "stream",
     "text": [
      "antarctic2019\n"
     ]
    },
    {
     "data": {
      "text/plain": [
       "<Figure size 432x288 with 0 Axes>"
      ]
     },
     "metadata": {},
     "output_type": "display_data"
    }
   ],
   "source": [
    "for iusv in range(9,10):\n",
    "    ds_usv,usvname = read_usv(iusv)\n",
    "    print(usvname)\n",
    "    ax = plt.axes(projection=ccrs.SouthPolarStereo())\n",
    "    cs1 = ax.scatter(ds_usv.lon, ds_usv.lat, transform=ccrs.PlateCarree(),s=10.0, c=ds_usv.SAL_MEAN, edgecolor='none', cmap='jet',vmin=33.6,vmax=34.4)\n",
    "    ax.set_extent([-180, 180, -90, -45], crs=ccrs.PlateCarree())\n",
    "    ax.coastlines(resolution='50m')\n",
    "    cax = plt.colorbar(cs1)\n",
    "    cax.set_label('SSS (psu)')\n",
    "    fig_fname = 'C:/Users/gentemann/Google Drive/f_drive/docs/projects/misst-arctic/mmdb/'+usvname+'_sal_location.png'\n",
    "    plt.savefig(fig_fname, transparent=False, format='png')\n",
    "    plt.clf()\n"
   ]
  },
  {
   "cell_type": "markdown",
   "metadata": {},
   "source": [
    "## An example showing how the using matplotlib maps orbital data quickly and easily\n",
    "\n"
   ]
  },
  {
   "cell_type": "code",
   "execution_count": null,
   "metadata": {},
   "outputs": [],
   "source": [
    "ds_usv,usvname = read_usv(7)\n",
    "adir_in = 'd:/'\n",
    "#adir_in = 'C:/Users/gentemann/Google Drive/public/temp/'\n",
    "file=adir_in+'amsr2_update/ftp.gportal.jaxa.jp/standard/GCOM-W/GCOM-W.AMSR2/L1R/2/2019/05/GW1AM2_201905301307_076D_L1SGRTBR_2220220.h5'\n",
    "ds = xr.open_dataset(file)\n",
    "ds.close()\n",
    "xlat=ds['Latitude of Observation Point for 89A'][:,::2]\n",
    "xlon=ds['Longitude of Observation Point for 89A'][:,::2]\n",
    "x = xlon.data\n",
    "y = xlat.data\n",
    "z = ds['Brightness Temperature (res06,6.9GHz,H)'].data*.01\n",
    "ax = plt.axes(projection=ccrs.PlateCarree())\n",
    "cs1 = ax.scatter(x, y, s=1.0, c=z, edgecolor='none', cmap='jet')\n",
    "minlon,maxlon,minlat,maxlat = ds_usv.lon.min().data,ds_usv.lon.max().data,ds_usv.lat.min().data,ds_usv.lat.max().data\n",
    "ax.plot([minlon,maxlon,maxlon,minlon,minlon],[minlat,minlat,maxlat,maxlat,minlat])\n",
    "ax.plot(ds_usv.lon,ds_usv.lat,'w')\n",
    "subset=ds_usv.sel(time=slice('2019-05-29','2019-05-31'))\n",
    "ax.plot(subset.lon,subset.lat,'m')\n",
    "#ax.plot(ds.cellon[jj,ii],ds.cellat[jj,ii,0],'b*')\n",
    "#ax.plot(ds_usv.lon[1000],ds_usv.lat[1000],'ro')\n",
    "ax.coastlines(resolution='50m')\n",
    "ax.set_xlim(-175,-145)\n",
    "ax.set_ylim(50,78)\n",
    "cax = plt.colorbar(cs1)\n",
    "cax.set_label('TB 6.9H (K)')\n",
    "fig_fname = 'C:/Users/gentemann/Google Drive/f_drive/docs/projects/misst-arctic/mmdb/example_collocation.png'\n",
    "plt.savefig(fig_fname, transparent=False, format='png')\n"
   ]
  },
  {
   "cell_type": "markdown",
   "metadata": {},
   "source": [
    "## But you can't search off of a scatter plot, so let's use pyresample to quickly project the orbit"
   ]
  },
  {
   "cell_type": "code",
   "execution_count": null,
   "metadata": {},
   "outputs": [],
   "source": [
    "area_def = load_area('areas.cfg', 'pc_world')\n",
    "rlon=np.arange(-180,180,.1)\n",
    "rlat=np.arange(90,-90,-.1)\n",
    "#adir_in = 'C:/Users/gentemann/Google Drive/public/temp/'\n",
    "adir_in = 'd:/'\n",
    "file=adir_in+'amsr2_update/ftp.gportal.jaxa.jp/standard/GCOM-W/GCOM-W.AMSR2/L1R/2/2019/05/GW1AM2_201905301307_076D_L1SGRTBR_2220220.h5'\n",
    "ds = xr.open_dataset(file)\n",
    "ds.close()\n",
    "xlat=ds['Latitude of Observation Point for 89A'][:,::2]\n",
    "xlon=ds['Longitude of Observation Point for 89A'][:,::2]\n",
    "x = xlon.data\n",
    "y = xlat.data\n",
    "z = ds['Brightness Temperature (res06,6.9GHz,H)'].data*.01\n",
    "#x = (np.mod(ds.cellon+180,360)-180).data \n",
    "lons,lats,data = x,y,z \n",
    "swath_def = SwathDefinition(lons, lats)\n",
    "result = resample_nearest(swath_def, data, area_def, radius_of_influence=20000, fill_value=None)\n",
    "save_quicklook('C:/Users/gentemann/Google Drive/f_drive/docs/projects/misst-arctic/mmdb/6hplot.png', area_def, result, num_meridians=0, num_parallels=0, label='Salinity (psu)')\n",
    "#now plot on basemap\n",
    "bmap = area_def2basemap(area_def)\n",
    "bmng = bmap.bluemarble()\n",
    "col = bmap.imshow(result, origin='upper',vmin=100,vmax=250)"
   ]
  },
  {
   "cell_type": "markdown",
   "metadata": {},
   "source": [
    "## First let's figure out what orbital files actually have data in our area of interest.  To do this, use the pyresample software\n",
    "\n",
    "- read in the in situ data\n",
    "- calculate the in situ min/max dates to know what files to check\n",
    "\n",
    "Now we have our time of interest\n",
    "\n",
    "- loop through the satellite data\n",
    "- calculate the in situ min/max lat/lon on the same day to define a small box of interest\n",
    "- use pyresample to map the data onto a predefined 0.1 deg resolution spatial grid\n",
    "- subset the gridded map to the area of interest\n",
    "- see if there is any valid data in that area\n",
    "- if there is any valid data, save the filename into a list\n",
    "\n"
   ]
  },
  {
   "cell_type": "code",
   "execution_count": null,
   "metadata": {
    "scrolled": true
   },
   "outputs": [],
   "source": [
    "#intialize grid\n",
    "for iusv in range(0,1):\n",
    "    area_def = load_area('areas.cfg', 'pc_world')\n",
    "    rlon=np.arange(-180,180,.1)\n",
    "    rlat=np.arange(90,-90,-.1)\n",
    "\n",
    "    ds_usv,name_usv = read_usv(iusv)\n",
    "\n",
    "#    adir = 'C:/Users\\gentemann/Google Drive/public/temp/'\n",
    "    adir = 'd:/'\n",
    "    if ds_usv.time.min().dt.year.data<2018:\n",
    "        sat_directory=adir+'amsr2/L1r/v2/'\n",
    "    else:\n",
    "        sat_directory=adir+'amsr2_update/ftp.gportal.jaxa.jp/standard/GCOM-W/GCOM-W.AMSR2/L1R/2/'\n",
    "    fileout = 'C:/Users\\gentemann/Google Drive/private/tem_saildrone/'+name_usv+'AMSR2MMDB_filesave2.nc'\n",
    "    file_end = '*.h5.gz'\n",
    "    \n",
    "#    if path.exists(fileout):\n",
    "#        continue\n",
    "    #init filelist\n",
    "    file_save=[]\n",
    "\n",
    "    #search usv data\n",
    "    minday,maxday = ds_usv.time[0],ds_usv.time[-1]\n",
    "    usv_day = minday\n",
    "    print(minday.data,maxday.data)\n",
    "    while usv_day<=maxday:\n",
    "        \n",
    "#        check_day = np.datetime64(str(usv_day.dt.year.data)+'-'+str(usv_day.dt.month.data).zfill(2)+'-'+str(usv_day.dt.day.data).zfill(2))\n",
    "#        usv_day1 = usv_day + np.timedelta64(1,'D')\n",
    "#        check_day1 = np.datetime64(str(usv_day1.dt.year.data)+'-'+str(usv_day1.dt.month.data).zfill(2)+'-'+str(usv_day1.dt.day.data).zfill(2))\n",
    "#        ds_day = ds_usv.sel(time=slice(check_day,check_day1))\n",
    "\n",
    "#while looping through USV data, look at data +-1 day \n",
    "        ds_day = ds_usv.sel(time=slice(usv_day-np.timedelta64(1,'D'),usv_day+np.timedelta64(1,'D')))\n",
    "        ilen = ds_day.time.size\n",
    "        if ilen<1:   #don't run on days without any data\n",
    "            continue\n",
    "        minlon,maxlon,minlat,maxlat = ds_day.lon.min().data,ds_day.lon.max().data,ds_day.lat.min().data,ds_day.lat.max().data\n",
    "        #caluclate filelist\n",
    "        syr=str(usv_day.dt.year.data)\n",
    "        smon=str(usv_day.dt.month.data).zfill(2)\n",
    "        sdy=str(usv_day.dt.day.data).zfill(2)\n",
    "        #the more recent data is in daily directories, so easy to search\n",
    "        #the older data, pre 2018 is in monthly directories so only search files for day\n",
    "        if usv_day.dt.year.data<2018:\n",
    "            adir_list=sat_directory+syr+'/'+smon+'/'+sdy+'/'+file_end\n",
    "            filelist = glob(adir_list)\n",
    "        else:\n",
    "            adir_list=sat_directory+syr+'/'+smon+'/'+'/GW1AM2_'+syr+smon+sdy+file_end\n",
    "            filelist = glob(adir_list)  \n",
    "        #print(sat_directory+syr+'/'+smon+'/'+'/GW1AM2_'+syr+smon+sdy+file_end)\n",
    "        print(usv_day.data,'numfiles:',len(filelist))\n",
    "        print(adir_list)\n",
    "        \n",
    "        x,y,z = [],[],[]\n",
    "        for file in filelist:\n",
    "            file.replace('\\\\','/')\n",
    "            with gzip.open(file, 'rb') as f_in:\n",
    "                with open('c:/temp/tem.h5', 'wb') as f_out:\n",
    "                    shutil.copyfileobj(f_in, f_out)\n",
    "            ds=xr.open_dataset('c:/temp/tem.h5')\n",
    "            ds.close()\n",
    "#            ds = xr.open_dataset(file)\n",
    "#            ds.close()\n",
    "            xlat=ds['Latitude of Observation Point for 89A'][:,::2]\n",
    "            xlon=ds['Longitude of Observation Point for 89A'][:,::2]\n",
    "#            ds = ds.rename({'cellon':'lon','cellat':'lat','sss_smap':'smap_sss'})\n",
    "#            ds['lon']=np.mod(ds.lon+180,360)-180  \n",
    "#            x = xlon.fillna(-89).data \n",
    "#            y = xlat.fillna(-89).data \n",
    "            x = xlon.data\n",
    "            y = xlat.data\n",
    "            z = ds['Brightness Temperature (res06,6.9GHz,H)'].data*.01 \n",
    "            lons,lats,data = x,y,z \n",
    "            swath_def = SwathDefinition(lons, lats)\n",
    "            result1 = resample_nearest(swath_def, data, area_def, radius_of_influence=20000, fill_value=None)\n",
    "            da = xr.DataArray(result1,name='tb6h',coords={'lat':rlat,'lon':rlon},dims=('lat','lon'))\n",
    "            subset = da.sel(lat = slice(maxlat,minlat),lon=slice(minlon,maxlon))\n",
    "            num_obs = np.isfinite(subset).sum()\n",
    "            if num_obs>0:\n",
    "                file_save = np.append(file_save,file)\n",
    "        usv_day += np.timedelta64(1,'D')\n",
    "        df = xr.DataArray(file_save,name='filenames')\n",
    "        df.to_netcdf(fileout)"
   ]
  },
  {
   "cell_type": "code",
   "execution_count": 1,
   "metadata": {},
   "outputs": [
    {
     "ename": "NameError",
     "evalue": "name 'read_usv' is not defined",
     "output_type": "error",
     "traceback": [
      "\u001b[1;31m---------------------------------------------------------------------------\u001b[0m",
      "\u001b[1;31mNameError\u001b[0m                                 Traceback (most recent call last)",
      "\u001b[1;32m<ipython-input-1-b01460d454f0>\u001b[0m in \u001b[0;36m<module>\u001b[1;34m\u001b[0m\n\u001b[1;32m----> 1\u001b[1;33m \u001b[0mds_usv\u001b[0m\u001b[1;33m,\u001b[0m\u001b[0musvname\u001b[0m \u001b[1;33m=\u001b[0m \u001b[0mread_usv\u001b[0m\u001b[1;33m(\u001b[0m\u001b[1;36m7\u001b[0m\u001b[1;33m)\u001b[0m\u001b[1;33m\u001b[0m\u001b[1;33m\u001b[0m\u001b[0m\n\u001b[0m\u001b[0;32m      2\u001b[0m \u001b[0mds_usv\u001b[0m\u001b[1;33m\u001b[0m\u001b[1;33m\u001b[0m\u001b[0m\n",
      "\u001b[1;31mNameError\u001b[0m: name 'read_usv' is not defined"
     ]
    }
   ],
   "source": [
    "ds_usv,usvname = read_usv(7)\n",
    "ds_usv"
   ]
  },
  {
   "cell_type": "code",
   "execution_count": null,
   "metadata": {},
   "outputs": [],
   "source": []
  },
  {
   "cell_type": "code",
   "execution_count": null,
   "metadata": {},
   "outputs": [],
   "source": []
  },
  {
   "cell_type": "markdown",
   "metadata": {},
   "source": [
    "## Now, loop through only the files that we know have some data in the region of interest.  Use the fast search kdtree which is part of pyresample software, but I think maybe comes originally from sci-kit-learn.\n",
    "\n",
    "- read in the in situ data\n",
    "- read in a single orbit of satellite data\n",
    "- kdtree can't handle it when lat/lon are set to nan.  I frankly have no idea why there is orbital data for both the JPL and RSS products that have nan for the geolocation.  That isn't normal.  But, okay, let's deal with it.  \n",
    "- stack the dataset scanline and cell positions into a new variable 'z'\n",
    "- drop all variables from the dataset when the longitude is nan\n",
    "- set up the tree\n",
    "- loop through the orbital data\n",
    "- only save a match if it is less than 0.25 deg distance AND time is less than any previous match\n",
    "- save the satellite indices & some basic data onto the USV grid\n"
   ]
  },
  {
   "cell_type": "code",
   "execution_count": null,
   "metadata": {},
   "outputs": [],
   "source": [
    "num_usv=0\n",
    "for isat in range(2):`\n",
    "    ds_usv,usv_name = read_usv(num_usv)\n",
    "    filelist = 'F:/data/cruise_data/saildrone/sat_collocations/'+usv_name+'AMSR2MMDB_filesave2.nc'\n",
    "    fileout = 'F:/data/cruise_data/saildrone/sat_collocations/'+usv_name+'AMSR2MMDB_usv2.nc'   \n",
    "    df = xr.open_dataset(filelist)\n",
    "    for file2 in df.filenames.data:\n",
    "        file = file2\n",
    "        file.replace('\\\\','/')\n",
    "        ds = xr.open_dataset(file)\n",
    "        ds.close()  \n",
    "        if isat==0:  #change RSS data to conform with JPL definitions\n",
    "            ds = ds.rename({'iqc_flag':'quality_flag','cellon':'lon','cellat':'lat','sss_smap':'smap_sss','ydim_grid':'phony_dim_0','xdim_grid':'phony_dim_1'})\n",
    "            ds['lon']=np.mod(ds.lon+180,360)-180  \n",
    "        if isat==1:  #change RSS data to conform with JPL definitions\n",
    "            ds = ds.rename({'row_time':'time'})\n",
    "        #stack xarray dataset then drop lon == nan\n",
    "        ds2 = ds.stack(z=('phony_dim_0', 'phony_dim_1')).reset_index('z')\n",
    "        #drop nan\n",
    "        ds_drop = ds2.where(np.isfinite(ds2.lon),drop=True)\n",
    "        lats = ds_drop.lat.data\n",
    "        lons = ds_drop.lon.data\n",
    "        inputdata = list(zip(lons.ravel(), lats.ravel()))\n",
    "        tree = spatial.KDTree(inputdata)\n",
    "        orbit_time = ds.time.max().data-np.timedelta64(1,'D')\n",
    "        orbit_time2 = ds.time.max().data+np.timedelta64(1,'D')    \n",
    "        usv_subset = ds_usv.sel(time=slice(orbit_time,orbit_time2))\n",
    "        ilen = ds_usv.time.size\n",
    "        for iusv in range(ilen):\n",
    "            if (ds_usv.time[iusv]<orbit_time) or (ds_usv.time[iusv]>orbit_time2):\n",
    "                continue\n",
    "            pts = np.array([ds_usv.lon[iusv], ds_usv.lat[iusv]])\n",
    "    #        pts = np.array([ds_usv.lon[iusv]+360, ds_usv.lat[iusv]])\n",
    "            tree.query(pts,k=1)\n",
    "            i = tree.query(pts)[1]\n",
    "            rdist = tree.query(pts)[0]\n",
    "            #don't use matchups more than 25 km away\n",
    "            if rdist>.25:\n",
    "                continue\n",
    "            #use .where to find the original indices of the matched data point\n",
    "            #find by matching sss and lat, just randomly chosen variables, you could use any\n",
    "            result = np.where((ds.smap_sss == ds_drop.smap_sss[i].data) & (ds.lat == ds_drop.lat[i].data))\n",
    "            listOfCoordinates = list(zip(result[0], result[1]))\n",
    "            if len(listOfCoordinates)==0:\n",
    "                continue\n",
    "            ii, jj = listOfCoordinates[0][0],listOfCoordinates[0][1]\n",
    "            if isat==0:\n",
    "                deltaTa = ((ds_usv.time[iusv]-ds.time[ii,jj]).data)/ np.timedelta64(1,'m')\n",
    "            if isat==1:\n",
    "                deltaTa = ((ds_usv.time[iusv]-ds.time[ii]).data)/ np.timedelta64(1,'m')\n",
    "            if np.abs(deltaTa)<np.abs(ds_usv.deltaT[iusv].data):\n",
    "                ds_usv.deltaT[iusv]=deltaTa\n",
    "                ds_usv.smap_SSS[iusv]=ds.smap_sss[ii,jj]\n",
    "                ds_usv.smap_iqc_flag[iusv]=ds.quality_flag[ii,jj]\n",
    "                ds_usv.smap_name[iusv]=file2\n",
    "                ds_usv.smap_dist[iusv]=rdist\n",
    "                ds_usv.smap_ydim[iusv]=ii\n",
    "                ds_usv.smap_xdim[iusv]=jj\n",
    "    ds_usv.to_netcdf(fileout)\n"
   ]
  },
  {
   "cell_type": "markdown",
   "metadata": {},
   "source": [
    "# A larger STD that isn't reflective of uncertainty in the observation\n",
    "The collocation above will result in multiple USV data points matched with a single satellite\n",
    "observation.    The USV is sampling every 1 min and approximately few meters, while the satellite\n",
    "is an average over a footprint that is interpolated onto a daily mean map.  While calculating the mean would results in a valid mean, the STD would be higher and consist of a component that reflects the uncertainty of the USV and the satellite and a component that reflects the natural variability in the region that is sampled by the USV\n",
    "\n",
    "Below we use the 'nearest' collocation results to identify when multiple USV data are collcated to\n",
    "a single satellite observation.\n",
    "This code goes through the data and creates averages of the USV data that match the single CCMP collocated value.\n"
   ]
  },
  {
   "cell_type": "code",
   "execution_count": null,
   "metadata": {},
   "outputs": [],
   "source": [
    "for isat in range(2):\n",
    "    if isat==0:\n",
    "        file = 'F:/data/cruise_data/saildrone/sat_collocations/rss40km_usv2.nc'\n",
    "        fileout = 'F:/data/cruise_data/saildrone/sat_collocations/rss40km_usv2_norepeats.nc'\n",
    "    if isat==1:\n",
    "        file = 'F:/data/cruise_data/saildrone/sat_collocations/jplv42_usv2.nc'   \n",
    "        fileout = 'F:/data/cruise_data/saildrone/sat_collocations/jplv42_usv2_norepeats.nc'   \n",
    "    ds_usv=xr.open_dataset(file)\n",
    "    ds_usv.close()\n",
    "    ds_usv = ds_usv.where(ds_usv.smap_SSS<10000,np.nan)\n",
    "    ilen,index = ds_usv.dims['time'],0\n",
    "    ds_tem = ds_usv.copy(deep=True)\n",
    "    duu, duu2, duv1, duv2, dlat, dlon, dut = [],[],[],[],[],[],np.empty((),dtype='datetime64')\n",
    "    index=0\n",
    "    while index <= ilen-2:\n",
    "        index += 1\n",
    "        if np.isnan(ds_usv.smap_SSS[index]):\n",
    "            continue\n",
    "        if np.isnan(ds_usv.smap_xdim[index]):\n",
    "            continue\n",
    "        result = np.where((ds_usv.smap_xdim == ds_tem.smap_xdim[index].data) & (ds_usv.smap_ydim == ds_tem.smap_ydim[index].data))       \n",
    "        duu=np.append(duu,ds_usv.smap_SSS[result[0][0]].data)\n",
    "        duu2=np.append(duu2,ds_usv.smap_iqc_flag[result[0][0]].data)\n",
    "        duv1=np.append(duv1,ds_usv.SAL_MEAN[result].mean().data)\n",
    "        dlat=np.append(dlat,ds_usv.lat[result].mean().data)\n",
    "        dlon=np.append(dlon,ds_usv.lon[result].mean().data)\n",
    "        dut=np.append(dut,ds_usv.time[result].mean().data)\n",
    "        ds_usv.smap_SSS[result]=np.nan\n",
    "    dut2 = dut[1:]  #remove first data point which is a repeat from what array defined       \n",
    "    ds_new=xr.Dataset(data_vars={'smap_SSS': ('time',duu),'smap_iqc_flag': ('time',duu2),\n",
    "                                 'SAL_MEAN':('time',duv1),\n",
    "                                 'lon': ('time',dlon),\n",
    "                                 'lat': ('time',dlat)},\n",
    "                      coords={'time':dut2})\n",
    "    ds_new.to_netcdf(fileout)\n",
    "\n"
   ]
  },
  {
   "cell_type": "markdown",
   "metadata": {},
   "source": [
    "# Now look at bias/std & plot "
   ]
  },
  {
   "cell_type": "code",
   "execution_count": null,
   "metadata": {},
   "outputs": [],
   "source": [
    "files =['F:/data/cruise_data/saildrone/sat_collocations/rss40km_usv2_norepeats.nc',\n",
    "        'F:/data/cruise_data/saildrone/sat_collocations/jplv42_usv2_norepeats.nc',\n",
    "        'F:/data/cruise_data/saildrone/sat_collocations/rss40km_usv2.nc',\n",
    "        'F:/data/cruise_data/saildrone/sat_collocations/jplv42_usv2.nc']\n",
    "flabel=['RSS','JPL','RSS','JPL']\n",
    "for isat in range(4):\n",
    "    file = files[isat]\n",
    "    ds_usv=xr.open_dataset(file)\n",
    "    ds_usv = ds_usv.where(ds_usv.smap_SSS<10000,np.nan)\n",
    "    ds_usv = ds_usv.where(ds_usv.smap_iqc_flag<9400,np.nan)\n",
    "    if isat==1 or isat==3:\n",
    "        ds_usv = ds_usv.where(ds_usv.smap_iqc_flag<1,np.nan)\n",
    "    tem=ds_usv.smap_SSS-ds_usv.SAL_MEAN\n",
    "    tem = tem.where(np.isfinite(tem),drop=True)\n",
    "    print(flabel[isat],tem.mean().data,tem.std().data,tem.size)\n"
   ]
  },
  {
   "cell_type": "markdown",
   "metadata": {},
   "source": [
    "# just playing around & plotting stuff"
   ]
  },
  {
   "cell_type": "code",
   "execution_count": null,
   "metadata": {},
   "outputs": [],
   "source": [
    "print(tem[20000].data,ds_usv.smap_iqc_flag[20000].data)"
   ]
  },
  {
   "cell_type": "code",
   "execution_count": null,
   "metadata": {},
   "outputs": [],
   "source": [
    "plt.plot(ds_usv.smap_SSS,'.')\n",
    "plt.plot(ds_usv.smap_iqc_flag,'.')\n"
   ]
  },
  {
   "cell_type": "code",
   "execution_count": null,
   "metadata": {},
   "outputs": [],
   "source": [
    "plt.plot(ds_usv.smap_iqc_flag,ds_usv.smap_SSS-ds_usv.SAL_MEAN,'.')\n"
   ]
  },
  {
   "cell_type": "code",
   "execution_count": null,
   "metadata": {},
   "outputs": [],
   "source": [
    "tem=ds_usv.smap_SSS-ds_usv.SAL_MEAN\n",
    "plt.scatter(ds_usv.lon,ds_usv.lat,c=tem,vmin=-1,vmax=1)"
   ]
  },
  {
   "cell_type": "code",
   "execution_count": null,
   "metadata": {},
   "outputs": [],
   "source": [
    "#plot cruise SSS with coastlines\n",
    "ax = plt.subplot(221,projection=ccrs.PlateCarree())\n",
    "cs1 = ax.scatter(ds_usv.lon, ds_usv.lat, s=3.0, c=ds_usv.SAL_MEAN, edgecolor='none', cmap='jet',vmin=33,vmax=34.35)\n",
    "ax.coastlines()\n",
    "x1,x2,y1,y2 = -128,-112,25,40\n",
    "ax.set_xlim(x1,x2)\n",
    "ax.set_ylim(y1,y2)\n",
    "ax.set_xticks(np.arange(x1,x2,4))\n",
    "ax.set_yticks(np.arange(y1,y2,5))\n",
    "\n",
    "ax = plt.subplot(222,projection=ccrs.PlateCarree())\n",
    "cs1 = ax.scatter(ds_usv.lon, ds_usv.lat, s=3.0, c=ds_usv.smap_SSS, edgecolor='none', cmap='jet',vmin=33,vmax=34.35)\n",
    "ax.coastlines()\n",
    "x1,x2,y1,y2 = -128,-112,25,40\n",
    "ax.set_xlim(x1,x2)\n",
    "ax.set_ylim(y1,y2)\n",
    "ax.set_xticks(np.arange(x1,x2,4))\n",
    "ax.set_yticks(np.arange(y1,y2,5))\n",
    "\n",
    "cax = plt.colorbar(cs1)\n",
    "cax.set_label('Salinity (psu)')\n",
    "fig_fname = 'C:/Users/gentemann/Google Drive/f_drive/docs/projects/SSS/figures/baja_location2.png'\n",
    "plt.savefig(fig_fname, transparent=False, format='png')\n"
   ]
  },
  {
   "cell_type": "code",
   "execution_count": null,
   "metadata": {},
   "outputs": [],
   "source": [
    "fileout = 'F:/data/cruise_data/saildrone/sat_collocations/jplv42_usv.nc'\n",
    "ds_usv = xr.open_dataset(fileout)\n",
    "tem = ds_usv.smap_SSS.where(ds_usv.smap_SSS<45,np.NaN)\n",
    "tem = tem.where(ds_usv.smap_SSS>28,np.NaN)\n",
    "print((tem-ds_usv.SAL_MEAN).mean().data,(tem-ds_usv.SAL_MEAN).std().data,(tem-ds_usv.SAL_MEAN).size)\n"
   ]
  },
  {
   "cell_type": "code",
   "execution_count": null,
   "metadata": {},
   "outputs": [],
   "source": [
    "fileout = 'F:/data/cruise_data/saildrone/sat_collocations/rss40km1_usv.nc'\n",
    "ds_usv = xr.open_dataset(fileout)\n",
    "tem = ds_usv.smap_SSS.where(ds_usv.smap_SSS<45,np.NaN)\n",
    "tem = tem.where(ds_usv.smap_SSS>28,np.NaN)\n",
    "print((tem-ds_usv.SAL_MEAN).mean().data,(tem-ds_usv.SAL_MEAN).std().data,(tem-ds_usv.SAL_MEAN).size)\n"
   ]
  },
  {
   "cell_type": "code",
   "execution_count": null,
   "metadata": {},
   "outputs": [],
   "source": [
    "plt.plot(tem.time,tem)\n",
    "plt.plot(ds_usv.time,ds_usv.SAL_MEAN)"
   ]
  },
  {
   "cell_type": "code",
   "execution_count": null,
   "metadata": {},
   "outputs": [],
   "source": []
  },
  {
   "cell_type": "markdown",
   "metadata": {},
   "source": [
    "# Read in ACCESS data"
   ]
  },
  {
   "cell_type": "code",
   "execution_count": null,
   "metadata": {},
   "outputs": [],
   "source": [
    "filename = 'F:/data/cruise_data/access/rockfish_casts_2011.nc'\n",
    "ds = xr.open_dataset(filename)\n",
    "ds = ds.swap_dims({'row':'time'})\n",
    "ds = ds.rename({'latitude':'lat','longitude':'lon'})\n",
    "ds_access1 = ds.copy(deep=True)\n",
    "filename = 'F:/data/cruise_data/access/rockfish_casts_2015.nc'\n",
    "ds = xr.open_dataset(filename)\n",
    "ds = ds.swap_dims({'row':'time'})\n",
    "ds = ds.rename({'latitude':'lat','longitude':'lon'})\n",
    "ds_access2 = ds.copy(deep=True)\n",
    "ds_access = xr.concat((ds_access1,ds_access2),dim='time')"
   ]
  },
  {
   "cell_type": "code",
   "execution_count": null,
   "metadata": {},
   "outputs": [],
   "source": [
    "ds_access"
   ]
  },
  {
   "cell_type": "code",
   "execution_count": null,
   "metadata": {},
   "outputs": [],
   "source": [
    "ds_access.time.dt.month"
   ]
  },
  {
   "cell_type": "code",
   "execution_count": null,
   "metadata": {},
   "outputs": [],
   "source": [
    "plt.plot(ds_access.time.dt.year,ds_access.time.dt.dayofyear,'.')\n",
    "plt.xlabel('Day of Year')\n",
    "plt.ylabel('Year')\n",
    "fig_fname = 'C:/Users/gentemann/Google Drive/f_drive/docs/projects/SSS/figures/access_date.png'\n",
    "plt.savefig(fig_fname, transparent=False, format='png')"
   ]
  },
  {
   "cell_type": "code",
   "execution_count": null,
   "metadata": {},
   "outputs": [],
   "source": [
    "ax = plt.axes(projection=ccrs.PlateCarree())\n",
    "cs1 = ax.scatter(ds_access.lon, ds_access.lat, s=3.0, c=ds_access.salinity, edgecolor='none', cmap='jet',vmin=33,vmax=34.35)\n",
    "ax.coastlines()\n",
    "x1,x2,y1,y2 = -128,-112,30,50\n",
    "ax.set_xlim(x1,x2)\n",
    "ax.set_ylim(y1,y2)\n",
    "ax.set_xticks(np.arange(x1,x2,4))\n",
    "ax.set_yticks(np.arange(y1,y2,5))\n",
    "cax = plt.colorbar(cs1)\n",
    "cax.set_label('Salinity (psu)')\n",
    "fig_fname = 'C:/Users/gentemann/Google Drive/f_drive/docs/projects/SSS/figures/access_location.png'\n",
    "plt.savefig(fig_fname, transparent=False, format='png')"
   ]
  },
  {
   "cell_type": "markdown",
   "metadata": {},
   "source": [
    "# Read in 2018 Saildrone West Coast Survey"
   ]
  },
  {
   "cell_type": "code",
   "execution_count": null,
   "metadata": {},
   "outputs": [],
   "source": [
    "#https://coastwatch.pfeg.noaa.gov/erddap/\n",
    "#url = 'https://coastwatch.pfeg.noaa.gov/erddap/tabledap/saildrone_west_coast_survey_2018.nc'\n",
    "#url = 'https://ferret.pmel.noaa.gov/pmel/erddap/tabledap/saildrone_west_coast_survey_2018.nc'\n",
    "url = 'https://ferret.pmel.noaa.gov/pmel/erddap/tabledap/saildrone_west_coast_survey_2018'\n",
    "#url = 'F:/data/cruise_data/saildrone/2018_wcoast/saildrone_west_coast_survey_2018_f374_2e74_3de8.nc'\n",
    "#url = 'https://ferret.pmel.noaa.gov/pmel/erddap/tabledap/saildrone_west_coast_survey_2018.nc'\n",
    "ds_usv = xr.open_dataset(url)\n",
    "ds_usv.close()\n",
    "ds_usv['lat']=ds_usv['s.latitude']\n",
    "ds_usv['lon']=ds_usv['s.longitude']\n",
    "ds_usv['time']=ds_usv['s.time']\n",
    "ds_usv['trajectory']=ds_usv['s.trajectory']\n",
    "ds_usv['SAL_MEAN']=ds_usv['s.SAL_MEAN']\n",
    "ds_usv['TEMP_CTD_MEAN']=ds_usv['s.TEMP_CTD_MEAN']\n",
    "ds_usv = ds_usv.swap_dims({'s':'time'})\n",
    "#print(ds_usv.time.min().data,ds_usv.time.max().data)\n",
    "#ds_usv.load()\n"
   ]
  },
  {
   "cell_type": "code",
   "execution_count": null,
   "metadata": {},
   "outputs": [],
   "source": [
    "#used this code to figure out where the data goes bad\n",
    "ilen = ds_usv.SAL_MEAN.size\n",
    "print(ilen)\n",
    "tem = np.nan(ilen)\n",
    "for i in range(787066):\n",
    "    if ds_usv.SAL_MEAN[i]>20:\n",
    "        tem[i]=ds_usv.SAL_MEAN[i]\n",
    "tem[i:]=np.nan"
   ]
  },
  {
   "cell_type": "code",
   "execution_count": null,
   "metadata": {},
   "outputs": [],
   "source": [
    "#there is something bad in the data file above 776100 so subset the data to just the good part\n",
    "ds_usv2 = ds_usv.isel(time=slice(None,776100))\n",
    "xlon =  ds_usv2.lon.copy(deep=True)\n",
    "xlat =  ds_usv2.lat.copy(deep=True)\n",
    "salinity = ds_usv2.SAL_MEAN.copy(deep=True)\n",
    "ax = plt.axes(projection=ccrs.PlateCarree())\n",
    "cs1 = ax.scatter(xlon, xlat, s=3.0, c=salinity, edgecolor='none', cmap='jet',vmin=32,vmax=34.35)\n",
    "ax.coastlines()\n",
    "x1,x2,y1,y2 = -130,-114,30,52\n",
    "ax.set_xlim(x1,x2)\n",
    "ax.set_ylim(y1,y2)\n",
    "ax.set_xticks(np.arange(x1,x2,4))\n",
    "ax.set_yticks(np.arange(y1,y2,5))\n",
    "cax = plt.colorbar(cs1)\n",
    "cax.set_label('Salinity (psu)')\n",
    "fig_fname = 'C:/Users/gentemann/Google Drive/f_drive/docs/projects/SSS/figures/wcoast_location2.png'\n",
    "plt.savefig(fig_fname, transparent=False, format='png')\n"
   ]
  },
  {
   "cell_type": "code",
   "execution_count": null,
   "metadata": {},
   "outputs": [],
   "source": [
    "ds_usv2.trajectory[0:5]"
   ]
  },
  {
   "cell_type": "code",
   "execution_count": null,
   "metadata": {},
   "outputs": [],
   "source": [
    "url = 'https://ferret.pmel.noaa.gov/pmel/erddap/tabledap/saildrone_west_coast_survey_2018'\n",
    "#url = 'F:/data/cruise_data/saildrone/2018_wcoast/saildrone_west_coast_survey_2018_f374_2e74_3de8.nc'\n",
    "#url = 'https://ferret.pmel.noaa.gov/pmel/erddap/tabledap/saildrone_west_coast_survey_2018.nc'\n",
    "ds_usv = xr.open_dataset(url)\n",
    "ds_usv.close()\n",
    "ds_usv"
   ]
  },
  {
   "cell_type": "code",
   "execution_count": null,
   "metadata": {},
   "outputs": [],
   "source": [
    "url = 'https://ferret.pmel.noaa.gov/generic/erddap/tabledap/saildrone_arctic_gts'\n",
    "ds_usv = xr.open_dataset(url)\n",
    "ds_usv = xr.open_dataset(url)\n",
    "ds_usv.close()\n",
    "ds_usv['lat']=ds_usv['s.latitude']\n",
    "ds_usv['lon']=ds_usv['s.longitude']\n",
    "ds_usv['time']=ds_usv['s.time']\n",
    "ds_usv['trajectory']=ds_usv['s.trajectory']\n",
    "ds_usv['SAL_MEAN']=ds_usv['s.SAL_MEAN']\n",
    "ds_usv['TEMP_CTD_MEAN']=ds_usv['s.TEMP_CTD_MEAN']\n",
    "#ds_usv = ds_usv.swap_dims({'s':'time'})\n"
   ]
  },
  {
   "cell_type": "code",
   "execution_count": null,
   "metadata": {},
   "outputs": [],
   "source": [
    "ds_usv"
   ]
  },
  {
   "cell_type": "code",
   "execution_count": null,
   "metadata": {},
   "outputs": [],
   "source": [
    "xlon =  ds_usv.lon.copy(deep=True)\n",
    "xlat =  ds_usv.lat.copy(deep=True)\n",
    "salinity = ds_usv.SAL_MEAN.copy(deep=True)\n",
    "ax = plt.axes(projection=ccrs.PlateCarree())\n",
    "cs1 = ax.scatter(xlon, xlat, s=3.0, c=salinity, edgecolor='none', cmap='jet',vmin=32,vmax=34.35)\n",
    "ax.coastlines()\n",
    "x1,x2,y1,y2 = -130,-114,30,52\n",
    "ax.set_xlim(x1,x2)\n",
    "ax.set_ylim(y1,y2)\n",
    "ax.set_xticks(np.arange(x1,x2,4))\n",
    "ax.set_yticks(np.arange(y1,y2,5))\n",
    "cax = plt.colorbar(cs1)\n",
    "cax.set_label('Salinity (psu)')\n",
    "fig_fname = 'C:/Users/gentemann/Google Drive/f_drive/docs/projects/SSS/figures/arctic_location.png'\n",
    "plt.savefig(fig_fname, transparent=False, format='png')"
   ]
  },
  {
   "cell_type": "code",
   "execution_count": null,
   "metadata": {},
   "outputs": [],
   "source": [
    "url = 'F:/data/cruise_data/saildrone/2018_wcoast/saildrone_west_coast_survey_2018_f374_2e74_3de8.nc'\n",
    "ds_usv = xr.open_dataset(url)\n",
    "ds_usv.close()\n",
    "xlon =  ds_usv.longitude.copy(deep=True)\n",
    "xlat =  ds_usv.latitude.copy(deep=True)\n",
    "salinity =  ds_usv.SAL_MEAN.copy(deep=True)\n",
    "ax = plt.axes(projection=ccrs.PlateCarree())\n",
    "cs1 = ax.scatter(xlon, xlat, s=3.0, c=salinity, edgecolor='none', cmap='jet',vmin=32,vmax=34.35)\n",
    "ax.coastlines()\n",
    "x1,x2,y1,y2 = -128,-112,25,40\n",
    "ax.set_xlim(x1,x2)\n",
    "ax.set_ylim(y1,y2)\n",
    "ax.set_xticks(np.arange(x1,x2,4))\n",
    "ax.set_yticks(np.arange(y1,y2,5))\n",
    "cax = plt.colorbar(cs1)\n",
    "cax.set_label('Salinity (psu)')\n",
    "fig_fname = 'C:/Users/gentemann/Google Drive/f_drive/docs/projects/SSS/figures/wcoast_location.png'\n",
    "plt.savefig(fig_fname, transparent=False, format='png')\n"
   ]
  },
  {
   "cell_type": "code",
   "execution_count": null,
   "metadata": {},
   "outputs": [],
   "source": []
  }
 ],
 "metadata": {
  "kernelspec": {
   "display_name": "Python 3",
   "language": "python",
   "name": "python3"
  },
  "language_info": {
   "codemirror_mode": {
    "name": "ipython",
    "version": 3
   },
   "file_extension": ".py",
   "mimetype": "text/x-python",
   "name": "python",
   "nbconvert_exporter": "python",
   "pygments_lexer": "ipython3",
   "version": "3.7.3"
  }
 },
 "nbformat": 4,
 "nbformat_minor": 1
}
