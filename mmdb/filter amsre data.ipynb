{
 "cells": [
  {
   "cell_type": "code",
   "execution_count": 2,
   "metadata": {},
   "outputs": [],
   "source": [
    "from netCDF4 import Dataset  \n",
    "import datetime as dt\n",
    "from datetime import datetime\n",
    "import numpy as np\n",
    "import math\n",
    "import os\n",
    "import sys\n",
    "import pandas as pd\n",
    "import xarray as xr\n",
    "\n",
    "####################you will need to change some paths here!#####################\n",
    "dir_mmdb='F:/data/mmd/mmd06c_re01_pp/drifter-sst_amsre-aq/' \n",
    "dir_mmdb_ccmp='f:/data/mmd/mmd06c_re01_pp/wind/' \n",
    "dir_ccmp='F:/data/sat_data/ccmp/v02.0/Y' \n",
    "#################################################################################\n"
   ]
  },
  {
   "cell_type": "code",
   "execution_count": 10,
   "metadata": {},
   "outputs": [
    {
     "name": "stdout",
     "output_type": "stream",
     "text": [
      "processing year and month below, month 13 means process all for that year\n",
      "2003\n",
      "1\n",
      "f:/data/mmd/mmd06c_re01_pp/wind/ccmp_mmd06c_sst_drifter-sst_amsre-aq_2003-001_2003-007.nc\n",
      "F:/data/mmd/mmd06c_re01_pp/drifter-sst_amsre-aq/mmd06c_sst_drifter-sst_amsre-aq_2003-001_2003-007.nc  with  25754  obs\n"
     ]
    },
    {
     "ename": "SyntaxError",
     "evalue": "'break' outside loop (<ipython-input-10-b3f1e257bf8c>, line 57)",
     "output_type": "error",
     "traceback": [
      "\u001b[1;36m  File \u001b[1;32m\"<ipython-input-10-b3f1e257bf8c>\"\u001b[1;36m, line \u001b[1;32m57\u001b[0m\n\u001b[1;33m    break\u001b[0m\n\u001b[1;37m         ^\u001b[0m\n\u001b[1;31mSyntaxError\u001b[0m\u001b[1;31m:\u001b[0m 'break' outside loop\n"
     ]
    }
   ],
   "source": [
    "input_year=2003\n",
    "input_month=1\n",
    "print('processing year and month below, month 13 means process all for that year')\n",
    "print(input_year)\n",
    "print(input_month)\n",
    "#print input_date\n",
    "#print input_date.month\n",
    "\n",
    "\n",
    "istart_flag = 0 \n",
    "for root, dirs, files in os.walk(dir_mmdb, topdown=False):\n",
    "    for name in files:\n",
    "        if name.endswith(\".nc\"):\n",
    "            filename_mmdb=os.path.join(root, name)\n",
    "            mmdb_year=int(name[32:36])\n",
    "            mmdb_jdy=int(name[37:40])\n",
    "            mmdb_date=dt.datetime(mmdb_year, 1, 1) + dt.timedelta(mmdb_jdy - 1)\n",
    "            mmdb_month=mmdb_date.month\n",
    "            if mmdb_year!=input_year:\n",
    "                continue\n",
    "            if input_month<=12:\n",
    "                if mmdb_month!=input_month:\n",
    "                    continue\n",
    "            filename_mmdb_ccmp = dir_mmdb_ccmp + 'ccmp_' + name\n",
    "            print(filename_mmdb_ccmp)\n",
    "          #  [ds_ccmp]=xr.open_dataset(filename_mmdb_ccmp)\n",
    "          #  print(ds_ccmp)\n",
    "            fnc = Dataset(filename_mmdb,'r') \n",
    "            amsr_time=fnc.variables['amsre.time'][:,10,10]\n",
    "            lats_amsr=fnc.variables['amsre.latitude'][:,10,10] \n",
    "            lons_amsr=fnc.variables['amsre.longitude'][:,10,10] \n",
    "            tb6v=fnc.variables['amsre.brightness_temperature6V'][:,10,10]*0.01+327.68 \n",
    "            tb6h=fnc.variables['amsre.brightness_temperature6H'][:,10,10]*0.01+327.68 \n",
    "            tb10v=fnc.variables['amsre.brightness_temperature10V'][:,10,10]*0.01+327.68 \n",
    "            tb10h=fnc.variables['amsre.brightness_temperature10H'][:,10,10]*0.01+327.68 \n",
    "            tb18v=fnc.variables['amsre.brightness_temperature18V'][:,10,10]*0.01+327.68 \n",
    "            tb18h=fnc.variables['amsre.brightness_temperature18H'][:,10,10]*0.01+327.68 \n",
    "            tb23v=fnc.variables['amsre.brightness_temperature23V'][:,10,10]*0.01+327.68 \n",
    "            tb23h=fnc.variables['amsre.brightness_temperature23H'][:,10,10]*0.01+327.68 \n",
    "            tb36v=fnc.variables['amsre.brightness_temperature36V'][:,10,10]*0.01+327.68 \n",
    "            tb36h=fnc.variables['amsre.brightness_temperature36H'][:,10,10]*0.01+327.68 \n",
    "            tb89v=fnc.variables['amsre.brightness_temperature89V'][:,10,10]*0.01+327.68 \n",
    "            tb89h=fnc.variables['amsre.brightness_temperature89H'][:,10,10]*0.01+327.68 \n",
    "            amsr_sza=fnc.variables['amsre.solar_zenith_angle'][:,10,10]\n",
    "            amsr_landflag=fnc.variables['amsre.land_ocean_flag_6'][:,10,10] \n",
    "            drifter_sst=fnc.variables['drifter-sst.insitu.sea_surface_temperature'][:,0,0] \n",
    "            drifter_sst_qc=fnc.variables['drifter-sst.insitu.qc1'][:,0,0] \n",
    "            amsr_sga=fnc.variables['amsre.Sun_Glint_Angle'][:,10,10] \n",
    "            fnc.close()\n",
    "            lons_amsr_360 = lons_amsr % 360  #put lons_amsr 0 to 360 for matching with ccmp which is 0-360\n",
    "            ilen=len(amsr_time)\n",
    "            print(filename_mmdb,' with ',ilen,' obs')\n",
    "            date_amsre=pd.to_datetime(amsr_time.data, unit='s',origin='1993-01-01')\n",
    "            break\n",
    "        break\n",
    "    break\n",
    "break\n",
    "            \n",
    "\n",
    "            \n",
    " \n",
    "\n"
   ]
  },
  {
   "cell_type": "code",
   "execution_count": 9,
   "metadata": {},
   "outputs": [
    {
     "data": {
      "text/plain": [
       "<class 'netCDF4._netCDF4.Variable'>\n",
       "float32 drifter-sst.insitu.sea_surface_temperature(matchup_count, drifter-sst_ny, drifter-sst_nx)\n",
       "    _FillValue: -9999.0\n",
       "    long_name: in situ sea surface temperature\n",
       "    units: Celsius\n",
       "unlimited dimensions: \n",
       "current shape = (25754, 1, 1)\n",
       "filling on"
      ]
     },
     "execution_count": 9,
     "metadata": {},
     "output_type": "execute_result"
    }
   ],
   "source": [
    "fnc.variables['drifter-sst.insitu.sea_surface_temperature']"
   ]
  },
  {
   "cell_type": "code",
   "execution_count": null,
   "metadata": {},
   "outputs": [],
   "source": [
    "            WS=sqrt(MMDall.amsre__nwp__10m_east_wind_component.^2+MMDall.amsre__nwp__10m_north_wind_component.^2);\n",
    "            cond = find((amsr_lat>= lat0) & (amsr_lat<  lat1)\n",
    "                        & (amsr_sza>= solzen0) & (amsr_sza<= solzen1)\n",
    "                        & (ccmp_ws>minwind) & (ccmp_ws<maxwind)\n",
    "                        & (drifter_sst_qc == 0)  \n",
    "                        & (tb18v-tb18h >=0)\n",
    "                        & (tb23v-tb23h >=0)\n",
    "                        & (tb36v-tb36h >=0)\n",
    "                        & (drifter_sst<SSTmax) & (drifter_sst<SSTmin)\n",
    "                        & (amsr_landflag==0)\n",
    "                        & (amsr_sga>minSunGlint)\n",
    "                        & (icheck_rfi==0)\n",
    "                        \n",
    " #    MMDall.amsre__brightness_temperature23Vstd11                                       < maxSTD23V                 & ...\n",
    " #   MMDall.amsre__brightness_temperature23Hstd11                                       < maxSTD23H                 & ...\n",
    " #   MMDall.amsre__brightness_temperature36Vstd11                                       < maxSTD36V                 & ...\n",
    " #   MMDall.amsre__brightness_temperature36Hstd11                                       < maxSTD36V);\n"
   ]
  }
 ],
 "metadata": {
  "kernelspec": {
   "display_name": "Python 3",
   "language": "python",
   "name": "python3"
  },
  "language_info": {
   "codemirror_mode": {
    "name": "ipython",
    "version": 3
   },
   "file_extension": ".py",
   "mimetype": "text/x-python",
   "name": "python",
   "nbconvert_exporter": "python",
   "pygments_lexer": "ipython3",
   "version": "3.5.6"
  }
 },
 "nbformat": 4,
 "nbformat_minor": 2
}
