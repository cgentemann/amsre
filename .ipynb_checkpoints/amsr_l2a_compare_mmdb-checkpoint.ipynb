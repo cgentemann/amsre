{
 "cells": [
  {
   "cell_type": "code",
   "execution_count": 183,
   "metadata": {},
   "outputs": [],
   "source": [
    "from netCDF4 import Dataset  # http://code.google.com/p/netcdf4-python/\n",
    "import os\n",
    "####################you will need to change some paths here!#####################\n",
    "#list of input files\n",
    "#output files\n",
    "dir_l2p_start='F:/data/sst/l2p/AMSRE/REMSS/v7/'\n",
    "dir_l2a='F:/data/sat_data/amsre/L2A/'\n",
    "dir_l2a_sst='F:/data/sat_data/amsre/L2A_sst/'\n",
    "#################################################################################\n",
    "import datetime as dt\n",
    "import xarray as xr\n",
    "from datetime import datetime\n",
    "import pandas\n",
    "import matplotlib as mpl\n",
    "#import openpyxl\n",
    "#from mpl_toolkits.basemap import Basemap\n",
    "import matplotlib.pyplot as plt\n",
    "import numpy as np\n",
    "from math import floor\n",
    "import pandas as pd\n",
    "#from math import cos, radians"
   ]
  },
  {
   "cell_type": "code",
   "execution_count": 185,
   "metadata": {},
   "outputs": [
    {
     "name": "stdout",
     "output_type": "stream",
     "text": [
      "(2002,)\n",
      "F:/data/sst/l2p/AMSRE/REMSS/v7/2010/001/\n",
      "AMSR_E_L2A_BrightnessTemperatures_V12_201001010026_A.nc\n",
      "40758 20100101002848-REMSS-L2P_GHRSST-SSTsubskin-AMSRE-l2b_v07a_r40758.dat-v02.0-fv01.0.nc\n",
      "AMSR_E_L2A_BrightnessTemperatures_V12_201001010026_A.nc\n",
      "40759 20100101020800-REMSS-L2P_GHRSST-SSTsubskin-AMSRE-l2b_v07a_r40759.dat-v02.0-fv01.0.nc\n",
      "AMSR_E_L2A_BrightnessTemperatures_V12_201001010026_A.nc\n",
      "40760 20100101034608-REMSS-L2P_GHRSST-SSTsubskin-AMSRE-l2b_v07a_r40760.dat-v02.0-fv01.0.nc\n",
      "AMSR_E_L2A_BrightnessTemperatures_V12_201001010026_A.nc\n",
      "40761 20100101052520-REMSS-L2P_GHRSST-SSTsubskin-AMSRE-l2b_v07a_r40761.dat-v02.0-fv01.0.nc\n",
      "AMSR_E_L2A_BrightnessTemperatures_V12_201001010026_A.nc\n",
      "40762 20100101070432-REMSS-L2P_GHRSST-SSTsubskin-AMSRE-l2b_v07a_r40762.dat-v02.0-fv01.0.nc\n",
      "AMSR_E_L2A_BrightnessTemperatures_V12_201001010026_A.nc\n",
      "40763 20100101084344-REMSS-L2P_GHRSST-SSTsubskin-AMSRE-l2b_v07a_r40763.dat-v02.0-fv01.0.nc\n",
      "AMSR_E_L2A_BrightnessTemperatures_V12_201001010026_A.nc\n",
      "40764 20100101102152-REMSS-L2P_GHRSST-SSTsubskin-AMSRE-l2b_v07a_r40764.dat-v02.0-fv01.0.nc\n",
      "AMSR_E_L2A_BrightnessTemperatures_V12_201001010026_A.nc\n",
      "40765 20100101120104-REMSS-L2P_GHRSST-SSTsubskin-AMSRE-l2b_v07a_r40765.dat-v02.0-fv01.0.nc\n",
      "AMSR_E_L2A_BrightnessTemperatures_V12_201001010026_A.nc\n",
      "40766 20100101134016-REMSS-L2P_GHRSST-SSTsubskin-AMSRE-l2b_v07a_r40766.dat-v02.0-fv01.0.nc\n",
      "AMSR_E_L2A_BrightnessTemperatures_V12_201001010026_A.nc\n",
      "40767 20100101151824-REMSS-L2P_GHRSST-SSTsubskin-AMSRE-l2b_v07a_r40767.dat-v02.0-fv01.0.nc\n",
      "AMSR_E_L2A_BrightnessTemperatures_V12_201001010026_A.nc\n",
      "40768 20100101165736-REMSS-L2P_GHRSST-SSTsubskin-AMSRE-l2b_v07a_r40768.dat-v02.0-fv01.0.nc\n",
      "AMSR_E_L2A_BrightnessTemperatures_V12_201001010026_A.nc\n",
      "40769 20100101183648-REMSS-L2P_GHRSST-SSTsubskin-AMSRE-l2b_v07a_r40769.dat-v02.0-fv01.0.nc\n",
      "AMSR_E_L2A_BrightnessTemperatures_V12_201001010026_A.nc\n",
      "40770 20100101201456-REMSS-L2P_GHRSST-SSTsubskin-AMSRE-l2b_v07a_r40770.dat-v02.0-fv01.0.nc\n",
      "AMSR_E_L2A_BrightnessTemperatures_V12_201001010026_A.nc\n",
      "40771 20100101215408-REMSS-L2P_GHRSST-SSTsubskin-AMSRE-l2b_v07a_r40771.dat-v02.0-fv01.0.nc\n",
      "AMSR_E_L2A_BrightnessTemperatures_V12_201001010026_A.nc\n",
      "40772 20100101233320-REMSS-L2P_GHRSST-SSTsubskin-AMSRE-l2b_v07a_r40772.dat-v02.0-fv01.0.nc\n",
      "(1994,)\n",
      "F:/data/sst/l2p/AMSRE/REMSS/v7/2010/001/\n",
      "AMSR_E_L2A_BrightnessTemperatures_V12_201001010115_D.nc\n",
      "40758 20100101002848-REMSS-L2P_GHRSST-SSTsubskin-AMSRE-l2b_v07a_r40758.dat-v02.0-fv01.0.nc\n"
     ]
    },
    {
     "ename": "TypeError",
     "evalue": "'datetime.datetime' object is not subscriptable",
     "output_type": "error",
     "traceback": [
      "\u001b[1;31m---------------------------------------------------------------------------\u001b[0m",
      "\u001b[1;31mTypeError\u001b[0m                                 Traceback (most recent call last)",
      "\u001b[1;32m<ipython-input-185-1c16d7b1f896>\u001b[0m in \u001b[0;36m<module>\u001b[1;34m()\u001b[0m\n\u001b[0;32m     67\u001b[0m                                     \u001b[1;32mif\u001b[0m \u001b[1;33m(\u001b[0m\u001b[0ml2a_start\u001b[0m\u001b[1;33m>\u001b[0m\u001b[0ml2p_start\u001b[0m\u001b[1;33m)\u001b[0m \u001b[1;32mand\u001b[0m \u001b[1;33m(\u001b[0m\u001b[0ml2a_end\u001b[0m\u001b[1;33m>\u001b[0m\u001b[0ml2p_end\u001b[0m\u001b[1;33m)\u001b[0m\u001b[1;33m:\u001b[0m  \u001b[1;31m#find l2a_start in l2p\u001b[0m\u001b[1;33m\u001b[0m\u001b[0m\n\u001b[0;32m     68\u001b[0m                                         \u001b[1;32mfor\u001b[0m \u001b[0miscan\u001b[0m \u001b[1;32min\u001b[0m \u001b[0mrange\u001b[0m\u001b[1;33m(\u001b[0m\u001b[1;36m0\u001b[0m\u001b[1;33m,\u001b[0m\u001b[0milen_l2p\u001b[0m\u001b[1;33m)\u001b[0m\u001b[1;33m:\u001b[0m\u001b[1;33m\u001b[0m\u001b[0m\n\u001b[1;32m---> 69\u001b[1;33m                                             \u001b[0mdtime\u001b[0m\u001b[1;33m=\u001b[0m\u001b[0ml2p_start\u001b[0m\u001b[1;33m[\u001b[0m\u001b[0miscan\u001b[0m\u001b[1;33m]\u001b[0m\u001b[1;33m-\u001b[0m\u001b[0ml2a_start\u001b[0m\u001b[1;33m\u001b[0m\u001b[0m\n\u001b[0m\u001b[0;32m     70\u001b[0m                                             \u001b[1;32mif\u001b[0m \u001b[0mdtime\u001b[0m\u001b[1;33m.\u001b[0m\u001b[0mseconds\u001b[0m\u001b[1;33m<\u001b[0m\u001b[0mimatch\u001b[0m\u001b[1;33m:\u001b[0m\u001b[1;33m\u001b[0m\u001b[0m\n\u001b[0;32m     71\u001b[0m                                                 \u001b[0mimatch\u001b[0m\u001b[1;33m=\u001b[0m\u001b[0mdtime\u001b[0m\u001b[1;33m.\u001b[0m\u001b[0mseconds\u001b[0m\u001b[1;33m\u001b[0m\u001b[0m\n",
      "\u001b[1;31mTypeError\u001b[0m: 'datetime.datetime' object is not subscriptable"
     ]
    }
   ],
   "source": [
    "\n",
    "for root, dirs, files in os.walk(dir_l2a, topdown=False):\n",
    "    for name in files:\n",
    "        if name.endswith(\".nc\"):\n",
    "            filename_l2a=os.path.join(root, name)\n",
    "            name_l2a=name\n",
    "            with xr.open_dataset(filename_l2a) as l2a_ds:\n",
    "                iorbit_l2a=floor(l2a_ds.StartOrbitNumber)\n",
    "                tdim=l2a_ds.Low_Res_Swath_Time.shape[0]\n",
    "                print(l2a_ds.Low_Res_Swath_Time.shape)\n",
    "                l2a_time=[0]*tdim\n",
    "                for i in range(0,tdim):\n",
    "                    l2a_time[i]=dt.datetime(1993,1,1,0,0,0)+dt.timedelta(seconds=float(l2a_ds.Low_Res_Swath_Time[i].data))\n",
    "                ilen_l2a=len(l2a_time)\n",
    "                amsr_year=int(l2a_time[0].year)\n",
    "                amsr_jdy=int(l2a_time[0].timetuple().tm_yday)\n",
    "                l2a_sst=np.ones((ilen_l2a,243))*-99.\n",
    "                l2a_wnd=np.ones((ilen_l2a,243))*-99.\n",
    "            #now find matching l2p\n",
    "                dir_l2p=dir_l2p_start+str(amsr_year)+'/'+str(amsr_jdy).zfill(3)+'/'\n",
    "                print(dir_l2p)\n",
    "                for root_l2p, dirs_l2p, files_l2p in os.walk(dir_l2p, topdown=False):\n",
    "                    for name_l2p in files_l2p:\n",
    "                        print(name_l2a)\n",
    "                        if name_l2p.endswith(\".nc\"):\n",
    "                            filename_l2p=os.path.join(root_l2p, name_l2p)\n",
    "                            #print(filename_l2p)\n",
    "                            iorbit=int(name_l2p[-25:-20])\n",
    "                            print(iorbit,name_l2p)                           \n",
    "                            if (iorbit==iorbit_l2a) or (iorbit==iorbit_l2a-1) or (iorbit==iorbit_l2a+1):  #same orbit!\n",
    "                                #amsr_year=int(name[0:4])\n",
    "                                #amsr_mon=int(name[4:6])\n",
    "                                #amsr_dym=int(name[6:8])\n",
    "                                with xr.open_dataset(filename_l2p) as l2p_ds:\n",
    "                                    numscan = l2p_ds.sst_dtime.shape[1]\n",
    "                                    ncell = l2p_ds.sst_dtime.shape[2]\n",
    "                                    l2p_time=[0]*numscan\n",
    "                                    time0=pd.to_datetime(l2p_ds.time[0].data)\n",
    "                                    for i in range(0,numscan):\n",
    "                                        tem=time0+dt.timedelta(seconds=float(l2p_ds.sst_dtime[0,i,0].data))\n",
    "                                        l2p_time[i]=tem.to_pydatetime()\n",
    "#start putting data into l2a sst and wnd\n",
    "                                    l2p_start=l2p_time[0]\n",
    "                                    l2p_end=l2p_time[-1]\n",
    "                                    l2a_start=l2a_time[0]\n",
    "                                    l2a_end=l2a_time[-1]\n",
    "                                    ilen_l2a=len(l2a_time)\n",
    "                                    ilen_l2p=len(l2p_time)\n",
    "                                    imatch=99999\n",
    "                                    imatchi=-1\n",
    "                                    if (l2a_start<l2p_start) and (l2a_end<=l2p_end):  #find l2p_start in l2a\n",
    "                                        for iscan in range(0,ilen_l2a):\n",
    "                                            dtime=l2p_start-l2a_time[iscan]\n",
    "                                            if dtime.seconds<imatch:\n",
    "                                                imatch=dtime.seconds\n",
    "                                                imatchi=iscan\n",
    "                                        l2a_sst[imatchi:,:]=l2p_ds.sea_surface_temperature[0,0:ilen_l2a-imatchi,:]    \n",
    "                                        l2a_wnd[imatchi:,:]=l2p_ds.wind_speed[0,0:ilen_l2a-imatchi,:]  \n",
    "                                    if (l2a_start>l2p_start) and (l2a_end<=l2p_end):  #find l2a_start in l2p\n",
    "                                        for iscan in range(0,ilen_l2p):\n",
    "                                            dtime=l2p_start[iscan]-l2a_start\n",
    "                                            if dtime.seconds<imatch:\n",
    "                                                imatch=dtime.seconds\n",
    "                                                imatchi=iscan\n",
    "                                        l2a_sst=l2p_ds.sea_surface_temperature[0,imatchi:imatchi+ilen_l2a,:]    \n",
    "                                        l2a_wnd=l2p_ds.wind_speed[0,imatchi:imatchi+ilen_l2a,:]  \n",
    "                                    if (l2a_start>l2p_start) and (l2a_end>l2p_end):  #find l2a_start in l2p\n",
    "                                        for iscan in range(0,ilen_l2p):\n",
    "                                            dtime=l2p_start[iscan]-l2a_start\n",
    "                                            if dtime.seconds<imatch:\n",
    "                                                imatch=dtime.seconds\n",
    "                                                imatchi=iscan\n",
    "                                        l2a_sst[:imatchi,:]=l2p_ds.sea_surface_temperature[0,imatchi:imatchi+ilen_l2a,:]    \n",
    "                                        l2a_wnd[:imatchi,:]=l2p_ds.wind_speed[0,imatchi:imatchi+ilen_l2a,:]  \n",
    "            #output data\n",
    "            filename_out_nc=dir_l2a_sst+name_l2a\n",
    "            fnc = Dataset(filename_out_nc,'w', format='NETCDF4') \n",
    "            fnc.createDimension('x', ilen_l2a)\n",
    "            fnc.createDimension('y', 243)\n",
    "            s_netcdf = fnc.createVariable('sst', 'f4', ('x','y'))\n",
    "            w_netcdf = fnc.createVariable('wnd', 'f4', ('x','y'))\n",
    "            s_netcdf[:] = l2a_sst\n",
    "            w_netcdf[:] = l2a_wnd\n",
    "            fnc.close()\n",
    "    \n",
    " \n",
    "\n",
    "\n"
   ]
  },
  {
   "cell_type": "code",
   "execution_count": 148,
   "metadata": {},
   "outputs": [
    {
     "name": "stdout",
     "output_type": "stream",
     "text": [
      "86260\n",
      "stop!\n",
      "40758 40757.727 40758.23\n",
      "1089\n"
     ]
    }
   ],
   "source": [
    "from math import floor\n",
    "\n",
    "l2p_start=l2p_time[0]\n",
    "l2p_end=l2p_time[-1]\n",
    "l2a_start=l2a_time[0]\n",
    "l2a_end=l2a_time[-1]\n",
    "ilen_l2a=len(l2a_time)\n",
    "ilen_l2p=len(l2p_time)\n",
    "imatch=99999\n",
    "imatchi=-1\n",
    "if (l2a_start<l2p_start) and (l2a_end<=l2p_end):  #find l2p_start in l2a\n",
    "    for iscan in range(0,ilen_l2a):\n",
    "        dtime=l2p_start-l2a_time[iscan]\n",
    "        if dtime.seconds<imatch:\n",
    "            imatch=dtime.seconds\n",
    "            imatchi=iscan\n",
    "    l2a_sst[imatchi:,:]=l2p_ds.sea_surface_temperature[0,0:ilen_l2a-imatchi,:]    \n",
    "    l2a_wnd[imatchi:,:]=l2p_ds.wind_speed[0,0:ilen_l2a-imatchi,:]  \n",
    "if (l2a_start>l2p_start) and (l2a_end<=l2p_end):  #find l2a_start in l2p\n",
    "    for iscan in range(0,ilen_l2p):\n",
    "        dtime=l2p_start[iscan]-l2a_start\n",
    "        if dtime.seconds<imatch:\n",
    "            imatch=dtime.seconds\n",
    "            imatchi=iscan\n",
    "    l2a_sst=l2p_ds.sea_surface_temperature[0,imatchi:imatchi+ilen_l2a,:]    \n",
    "    l2a_wnd=l2p_ds.wind_speed[0,imatchi:imatchi+ilen_l2a,:]  \n",
    "if (l2a_start>l2p_start) and (l2a_end>l2p_end):  #find l2a_start in l2p\n",
    "    for iscan in range(0,ilen_l2p):\n",
    "        dtime=l2p_start[iscan]-l2a_start\n",
    "        if dtime.seconds<imatch:\n",
    "            imatch=dtime.seconds\n",
    "            imatchi=iscan\n",
    "    l2a_sst[:imatchi,:]=l2p_ds.sea_surface_temperature[0,imatchi:imatchi+ilen_l2a,:]    \n",
    "    l2a_wnd[:imatchi,:]=l2p_ds.wind_speed[0,imatchi:imatchi+ilen_l2a,:]  \n",
    "    \n",
    "    \n"
   ]
  },
  {
   "cell_type": "code",
   "execution_count": 172,
   "metadata": {},
   "outputs": [
    {
     "name": "stdout",
     "output_type": "stream",
     "text": [
      "0:00:00.380417\n",
      "(1, 4193, 243)\n"
     ]
    }
   ],
   "source": [
    "#print(l2p_time[0]-l2a_time[istart_scan-996])\n",
    "#print(l2p_ds.sea_surface_temperature.shape)\n",
    "ilen_l2a=len(l2a_time)\n",
    "ilen_l2p=len(l2p_time)\n",
    "imatch=99999\n",
    "imatchi=-1\n",
    "l2a_sst=np.zeros((ilen_l2a,243))\n",
    "l2a_wnd=np.zeros((ilen_l2a,243))\n",
    "for iscan in range(0,len(l2a_time)):\n",
    "    dtime=l2p_time[0]-l2a_time[iscan]\n",
    "    #print(dtime.seconds,imatch)\n",
    "    if dtime.seconds<imatch:\n",
    "        imatch=dtime.seconds\n",
    "        imatchi=iscan\n",
    "if imatchi>=0:\n",
    "    #for iscan in range(imatchi,len(l2a_time))\n",
    "    l2a_sst[imatchi:,:]=l2p_ds.sea_surface_temperature[0,0:ilen_l2a-imatchi,:]    \n",
    "    l2a_wnd[imatchi:,:]=l2p_ds.wind_speed[0,0:ilen_l2a-imatchi,:]    \n"
   ]
  },
  {
   "cell_type": "code",
   "execution_count": 177,
   "metadata": {},
   "outputs": [
    {
     "name": "stdout",
     "output_type": "stream",
     "text": [
      "[ 3.79999924  4.          4.19999886  4.19999886  4.19999886  4.39999962\n",
      "  4.79999924  5.19999886  5.39999962  5.19999886  5.19999886  5.39999962\n",
      "  5.19999886  4.79999924  4.59999847  4.59999847  4.59999847  5.\n",
      "  5.19999886  5.19999886  5.39999962  6.          6.39999962  6.59999847\n",
      "  6.59999847  6.59999847  7.          7.19999886  7.39999962  7.39999962\n",
      "  7.39999962  8.          8.59999847  8.39999962  8.19999886  8.19999886\n",
      "  8.39999962  8.          7.59999847  7.59999847  8.          8.\n",
      "  7.79999924  7.79999924  8.          8.19999886  8.39999962  7.79999924\n",
      "  7.39999962  7.59999847  8.19999886  8.19999886  8.59999847  9.\n",
      "  9.19999886  9.          8.79999924  9.39999962  9.59999943  9.39999962\n",
      "  9.39999962  9.19999886  9.59999943  9.99999905  9.99999905  9.39999962\n",
      "  9.59999943  9.99999905  9.99999905  9.99999905  9.99999905  9.99999905\n",
      "  9.39999962  9.          9.          9.39999962  9.59999943  9.39999962\n",
      "  9.39999962  9.79999924 10.39999962 10.59999943 10.59999943 10.59999943\n",
      " 10.59999943 10.59999943 10.79999924 11.19999981 11.19999981 11.19999981\n",
      " 11.19999981 11.19999981 11.39999962 11.39999962 11.39999962 11.39999962\n",
      " 11.19999981 11.39999962 11.79999924 11.59999943 11.39999962 11.99999905\n",
      " 11.79999924 11.19999981 11.19999981 11.39999962 11.59999943 11.99999905\n",
      " 12.19999981 12.19999981 12.19999981 12.79999924 13.19999981 13.19999981\n",
      " 12.99999905 12.59999943 12.19999981 11.79999924 11.59999943 11.59999943\n",
      " 11.59999943 11.59999943 11.39999962 11.79999924 13.59999943 15.59999943\n",
      " 18.19999886 20.19999886 21.60000038 21.39999962 20.19999886 19.79999924\n",
      " 19.39999962 18.19999886 16.20000076 14.39999962 13.19999981 12.19999981\n",
      " 11.39999962 10.79999924 10.19999981  9.79999924  9.59999943  9.39999962\n",
      "  9.59999943  9.39999962  9.59999943  9.39999962  9.          7.79999924\n",
      "  7.          7.          6.79999924  6.59999847  6.59999847  6.39999962\n",
      "  6.39999962  6.79999924  7.          6.79999924  6.59999847  6.79999924\n",
      "  6.59999847  6.19999886  6.19999886  7.          7.59999847  7.79999924\n",
      "  7.79999924  8.          7.79999924  8.          8.39999962  8.59999847\n",
      "  8.59999847  8.59999847  8.39999962  8.39999962  8.39999962  8.19999886\n",
      "  8.19999886  8.          8.          8.19999886  8.19999886  8.\n",
      "  7.79999924  8.          8.          7.79999924  7.79999924  8.19999886\n",
      "  8.59999847  8.59999847  8.          7.59999847  8.          8.39999962\n",
      "  8.39999962  8.          8.          8.19999886  8.19999886  8.\n",
      "  8.39999962  8.59999847  8.59999847  8.59999847  9.          9.\n",
      "  9.          9.19999886  9.19999886  9.39999962  9.39999962  9.59999943\n",
      "  9.59999943  9.79999924  9.99999905 10.19999981 10.19999981  9.79999924\n",
      "  9.79999924  9.79999924 10.19999981 10.39999962 10.39999962 10.39999962\n",
      " 10.39999962 10.59999943 10.59999943 10.59999943 10.99999905 11.19999981\n",
      " 11.39999962 11.19999981 11.19999981 11.19999981 11.59999943 11.59999943\n",
      " 11.79999924 11.99999905 11.99999905]\n"
     ]
    }
   ],
   "source": [
    "\n",
    "print(l2a_wnd[500,:])\n",
    "#print(len(l2a_time))\n",
    "#print(type(l2p_time[0]))\n",
    "#print('match:', imatch,imatchi)\n",
    "#print(type(ilen_l2a),type(imatchi))\n",
    "    \n",
    "#print(l2p_time[0]-l2a_time[0])\n",
    "#dt=l2a_time-l2p_time[0]\n",
    "#timei = np.argmin( np.abs( l2a_time - l2p_time[0] ) )\n",
    "#dttime=abs(l2p_time[0]-l2a_time)\n",
    "#dttime=abs(time_ccmp2[timei] - amsr_date)\n",
    " #   f2=dttime.seconds/(6.*60*60)\n"
   ]
  },
  {
   "cell_type": "code",
   "execution_count": 181,
   "metadata": {},
   "outputs": [
    {
     "name": "stdout",
     "output_type": "stream",
     "text": [
      "40757.727\n"
     ]
    }
   ],
   "source": [
    "int(l2a_time[0].timetuple().tm_yday)\n",
    "print(l2a_ds.StartOrbitNumber)"
   ]
  },
  {
   "cell_type": "code",
   "execution_count": 18,
   "metadata": {
    "scrolled": false
   },
   "outputs": [
    {
     "name": "stdout",
     "output_type": "stream",
     "text": [
      "[40757.72492051 40757.72517332 40757.72542617 40757.72567896\n",
      " 40757.72593178 40757.72618455 40757.72643738 40757.7266901\n",
      " 40757.72694286 40757.72719556]\n",
      "(2002, 16, 12)\n",
      "[5.36459189e+08 5.36459191e+08 5.36459192e+08 5.36459194e+08\n",
      " 5.36459195e+08 5.36459197e+08 5.36459198e+08 5.36459200e+08\n",
      " 5.36459201e+08 5.36459203e+08]\n"
     ]
    }
   ],
   "source": [
    "#print(l2a_ds.StartOrbitNumber)\n",
    "#l2a_date=l2a_ds.RangeBeginningDate\n",
    "#l2a_time=l2a_ds.RangeBeginningTime\n",
    "#print(iorbit)\n",
    "#print(l2p_ds.start_time)\n",
    "#print(l2a_ds.Position_in_Orbit[0:10].data)\n",
    "#print(l2a_ds.Hot_Load_Count_6_to_52.shape) #Effective_Hot_Load_Temperature_6_to_52\n",
    "#print(l2a_ds.Low_Res_Swath_Time[0:10].data) #seconds since 1993-01-01T00:00:00"
   ]
  },
  {
   "cell_type": "code",
   "execution_count": 82,
   "metadata": {},
   "outputs": [
    {
     "data": {
      "text/plain": [
       "[datetime.datetime(2010, 1, 1, 0, 26, 29, 129136),\n",
       " datetime.datetime(2010, 1, 1, 0, 26, 29, 129136)]"
      ]
     },
     "execution_count": 82,
     "metadata": {},
     "output_type": "execute_result"
    }
   ],
   "source": [
    "l2a_time[0:2]"
   ]
  },
  {
   "cell_type": "code",
   "execution_count": 91,
   "metadata": {},
   "outputs": [
    {
     "name": "stdout",
     "output_type": "stream",
     "text": [
      "<class 'pandas._libs.tslibs.timestamps.Timestamp'>\n"
     ]
    },
    {
     "data": {
      "text/plain": [
       "datetime.datetime"
      ]
     },
     "execution_count": 91,
     "metadata": {},
     "output_type": "execute_result"
    }
   ],
   "source": [
    "print(type(l2p_time[200]))\n",
    "type(l2p_time[200].to_pydatetime())"
   ]
  },
  {
   "cell_type": "code",
   "execution_count": 80,
   "metadata": {},
   "outputs": [],
   "source": [
    "#    print(l2p_time[i],l2p_ds.sst_dtime[0,i,0].data)\n"
   ]
  },
  {
   "cell_type": "code",
   "execution_count": null,
   "metadata": {},
   "outputs": [],
   "source": [
    "timei = np.argmin( np.abs( time_ccmp2 - amsr_date ) )\n",
    "dttime=abs(time_ccmp2[timei] - amsr_date)\n",
    "f2=dttime.seconds/(6.*60*60)\n"
   ]
  },
  {
   "cell_type": "code",
   "execution_count": null,
   "metadata": {},
   "outputs": [],
   "source": []
  },
  {
   "cell_type": "code",
   "execution_count": null,
   "metadata": {},
   "outputs": [
    {
     "name": "stdout",
     "output_type": "stream",
     "text": [
      "F:/data/sat_data/ccmp/v02.0/Y2009/M12/CCMP_Wind_Analysis_20091230_V02.0_L3.0_RSS.nc\n",
      "F:/data/sat_data/ccmp/v02.0/Y2009/M12/CCMP_Wind_Analysis_20091231_V02.0_L3.0_RSS.nc\n",
      "F:/data/sat_data/ccmp/v02.0/Y2010/M01/CCMP_Wind_Analysis_20100101_V02.0_L3.0_RSS.nc\n",
      "0 output np.save\n",
      "F:/data/sat_data/ccmp/v02.0/Y2010/M01/CCMP_Wind_Analysis_20100102_V02.0_L3.0_RSS.nc\n"
     ]
    }
   ],
   "source": [
    "idysv=0\n",
    "istart=0\n",
    "col_wndu=[0]*tdim\n",
    "col_wndv=[0]*tdim\n",
    "for i in range(0,tdim):\n",
    "    amsr_date=date_1993+dt.timedelta(seconds=float(amsr_dysince[i].values))  #create new time array that can be queried for year etc\n",
    "    #print(i,amsr_date,idysv)\n",
    "    if istart==0: #initialize data\n",
    "        for incr in range(-1,2):\n",
    "            amsr_date2=amsr_date+dt.timedelta(days=float(incr))  #create new time array that can be queried for year etc\n",
    "            syr=str(amsr_date2.year).zfill(4)\n",
    "            smon=str(amsr_date2.month).zfill(2)\n",
    "            sdym=str(amsr_date2.day).zfill(2)\n",
    "            sjdy=str(amsr_date2.timetuple().tm_yday).zfill(3)\n",
    "            fname_tem='/CCMP_Wind_Analysis_' + syr + smon + sdym + '_V02.0_L3.0_RSS.nc'\n",
    "            ccmp_filename = dir_ccmp + syr + '/M' + smon + fname_tem      \n",
    "            print(ccmp_filename)\n",
    "            nc_fid = Dataset(ccmp_filename, 'r')\n",
    "            tem = nc_fid.variables['uwnd'][:]\n",
    "            wndu = np.append(tem[:,720:],tem[:,:720], axis=1)\n",
    "            tem = nc_fid.variables['vwnd'][:]\n",
    "            wndv = np.append(tem[:,720:],tem[:,:720], axis=1)               \n",
    "            mlat_ccmp = nc_fid.variables['latitude'][:]\n",
    "            tem = nc_fid.variables['longitude'][:]\n",
    "            mlon_ccmp = np.append(tem[720:],tem[:720], axis=0)               \n",
    "            mlon_ccmp = ((mlon_ccmp - 180) % 360) - 180  #make -180 to 180 rather than 0 360\n",
    "            t=nc_fid.variables['time'][:] #units: hours since 1987-01-01 00:00:00\n",
    "            time_ccmp=[0]*4\n",
    "            for itt in range(0,4):\n",
    "                time_ccmp[itt]=dt.datetime(1987,1,1,0,0,0)+dt.timedelta(hours=t[itt])\n",
    "            nc_fid.close()\n",
    "            if incr==-1:\n",
    "                wndu2=wndu\n",
    "                wndv2=wndv\n",
    "                time_ccmp2=time_ccmp\n",
    "            else:\n",
    "                wndu2 =  np.append(wndu2,wndu, axis=0)\n",
    "                wndv2 =  np.append(wndv2,wndv, axis=0)\n",
    "                time_ccmp2 = np.append(time_ccmp2,time_ccmp, axis = 0)\n",
    "            idysv=amsr_date.day\n",
    "            istart=1\n",
    "    if amsr_date.day!=idysv:\n",
    "        #print('read in new data',amsr_date.day,idysv)\n",
    "        amsr_date2=amsr_date+dt.timedelta(days=float(1))  #create new time array that can be queried for year etc\n",
    "        syr=str(amsr_date2.year).zfill(4)\n",
    "        smon=str(amsr_date2.month).zfill(2)\n",
    "        sdym=str(amsr_date2.day).zfill(2)\n",
    "        sjdy=str(amsr_date2.timetuple().tm_yday).zfill(3)\n",
    "        fname_tem='/CCMP_Wind_Analysis_' + syr + smon + sdym + '_V02.0_L3.0_RSS.nc'\n",
    "        ccmp_filename = dir_ccmp + syr + '/M' + smon + fname_tem      \n",
    "        print(ccmp_filename)\n",
    "        nc_fid = Dataset(ccmp_filename, 'r')\n",
    "        tem = nc_fid.variables['uwnd'][:]\n",
    "        wndu = np.append(tem[:,720:],tem[:,:720], axis=1)               \n",
    "        tem = nc_fid.variables['vwnd'][:]\n",
    "        wndv = np.append(tem[:,720:],tem[:,:720], axis=1)               \n",
    "        mlat_ccmp = nc_fid.variables['latitude'][:]\n",
    "        tem = nc_fid.variables['longitude'][:]\n",
    "        mlon_ccmp = np.append(tem[720:],tem[:720], axis=0)               \n",
    "        mlon_ccmp = ((mlon_ccmp - 180) % 360) - 180  #make -180 to 180 rather than 0 360\n",
    "        t=nc_fid.variables['time'][:] #units: hours since 1987-01-01 00:00:00\n",
    "        time_ccmp=[0]*4\n",
    "        for itt in range(0,4):\n",
    "            time_ccmp[itt]=dt.datetime(1987,1,1,0,0,0)+dt.timedelta(hours=t[itt])\n",
    "        nc_fid.close()\n",
    "        idysv=amsr_date.day\n",
    "        wndu2[0:8,:,:]=wndu2[4:12,:,:]\n",
    "        wndv2[0:8,:,:]=wndv2[4:12,:,:]\n",
    "        time_ccmp2[0:8]=time_ccmp2[4:12]\n",
    "        wndu2[8:12,:,:]=wndu[:]\n",
    "        wndv2[8:12,:,:]=wndv[:]\n",
    "        time_ccmp2[8:12]=time_ccmp[:]\n",
    "    latli = np.argmin( np.abs( mlat_ccmp - lats_amsr[i] ) )\n",
    "    lonli = np.argmin( np.abs( mlon_ccmp - lons_amsr[i] ) )\n",
    "    timei = np.argmin( np.abs( time_ccmp2 - amsr_date ) )\n",
    "    dttime=abs(time_ccmp2[timei] - amsr_date)\n",
    "    f2=dttime.seconds/(6.*60*60)\n",
    "    f1=f2-1.\n",
    "    if time_ccmp2[timei]<amsr_date:\n",
    "        timej=timei+1\n",
    "    if time_ccmp2[timei]>=amsr_date:\n",
    "        timej=timei-1\n",
    "    #print(f1,f2,timei,timej)\n",
    "    col_wndu[i]=f1*wndu2[timei,latli,lonli]+f2*wndu2[timej,latli,lonli]\n",
    "    col_wndv[i]=f1*wndv2[timei,latli,lonli]+f2*wndv2[timej,latli,lonli]\n",
    "    \n",
    "                \n"
   ]
  },
  {
   "cell_type": "code",
   "execution_count": null,
   "metadata": {},
   "outputs": [],
   "source": [
    "print(wndu2[:,300,700])"
   ]
  },
  {
   "cell_type": "code",
   "execution_count": null,
   "metadata": {},
   "outputs": [],
   "source": []
  },
  {
   "cell_type": "code",
   "execution_count": null,
   "metadata": {},
   "outputs": [],
   "source": [
    "Dataset(ccmp_filename).variables['time']"
   ]
  },
  {
   "cell_type": "code",
   "execution_count": null,
   "metadata": {},
   "outputs": [],
   "source": [
    "#Dataset(ccmp_filename).variables['drifter___sst_insitu__time']"
   ]
  }
 ],
 "metadata": {
  "kernelspec": {
   "display_name": "Python 3",
   "language": "python",
   "name": "python3"
  },
  "language_info": {
   "codemirror_mode": {
    "name": "ipython",
    "version": 3
   },
   "file_extension": ".py",
   "mimetype": "text/x-python",
   "name": "python",
   "nbconvert_exporter": "python",
   "pygments_lexer": "ipython3",
   "version": "3.5.5"
  }
 },
 "nbformat": 4,
 "nbformat_minor": 2
}
