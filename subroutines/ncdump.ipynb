{
 "cells": [
  {
   "cell_type": "code",
   "execution_count": 5,
   "metadata": {},
   "outputs": [
    {
     "name": "stdout",
     "output_type": "stream",
     "text": [
      "<class 'netCDF4._netCDF4.Dataset'>\n",
      "root group (NETCDF3_CLASSIC data model, file format DAP2):\n",
      "    Conventions: CF-1.6, Unidata Observation Dataset v1.0\n",
      "    title: Sea Surface Temperature from AMSR2 onboard GCOM-W1, 25 km resolution, global, near realtime\n",
      "    summary: Sea Surface Temperature from AMSR2 onboard GCOM-W1, 25 km resolution, global, near realtime\n",
      "    comment: This research was supported by the NASA Physical Oceanography Program\n",
      "    references: MW SSES Report version 3.0\n",
      "    institution: REMSS\n",
      "    gds_version_id: 2.0\n",
      "    netcdf_version_id: 4.4\n",
      "    date_created: 20180109T040104Z\n",
      "    uuid: 26091b79-31ea-4307-8447-4a6df96f6fd0\n",
      "    history: created with ghrsst_swath_processor processing\n",
      "    license: Free and open\n",
      "    id: AMSR2-REMSS-L2P-v8a\n",
      "    naming_authority: org.ghrsst\n",
      "    product_version: v8a\n",
      "    file_quality_level: 3\n",
      "    spatial_resolution: 25 km\n",
      "    start_time: 20180109T001040Z\n",
      "    stop_time: 20180109T014848Z\n",
      "    time_coverage_start: 20180109T001040Z\n",
      "    time_coverage_end: 20180109T014848Z\n",
      "    southernmost_latitude: -89.34\n",
      "    northernmost_latitude: 89.13\n",
      "    westernmost_longitude: -179.99\n",
      "    easternmost_longitude: 180.0\n",
      "    source: REMSS AMSR2 L2B Version-8\n",
      "    platform: GCOM-W1\n",
      "    sensor: AMSR2\n",
      "    Metadata_Conventions: Unidata Dataset Discovery V1.0\n",
      "    metadata_link: http://podaac.jpl.nasa.gov/ws/metadata/dataset/?format=iso&shortName=AMSR2-REMSS-L2P-v8a\n",
      "    keywords: Oceans > Ocean Temperature > Sea Surface Temperature\n",
      "    keywords_vocabulary: NASA Global Change Master Directory (GCMD) Science Keywords\n",
      "    standard_name_vocabulary: NetCDF Climate and Forecast (CF) Metadata Convention\n",
      "    geospatial_lat_units: degrees_north\n",
      "    geospatial_lat_resolution: 0.25\n",
      "    geospatial_lon_units: degrees_east\n",
      "    geospatial_lon_resolution: 0.25\n",
      "    acknowledgment: http://www.remss.com/missions/amsr\n",
      "    creator_name: Remote Sensing Systems\n",
      "    creator_email: support@remss.com\n",
      "    creator_url: www.remss.com\n",
      "    project: Group for High Resolution Sea Surface Temperature\n",
      "    publisher_name: The GHRSST Project Office\n",
      "    publisher_url: http://www.ghrsst.org\n",
      "    publisher_email: ghrsst-po@nceo.ac.uk\n",
      "    processing_level: L2P\n",
      "    cdm_data_type: swath\n",
      "    dimensions(sizes): ni(243), nj(4193), time(1)\n",
      "    variables(dimensions): float32 \u001b[4mlat\u001b[0m(nj,ni), float32 \u001b[4mlon\u001b[0m(nj,ni), int32 \u001b[4mtime\u001b[0m(time), int16 \u001b[4msea_surface_temperature\u001b[0m(time,nj,ni), int16 \u001b[4msst_dtime\u001b[0m(time,nj,ni), int16 \u001b[4mdt_analysis\u001b[0m(time,nj,ni), int16 \u001b[4msses_bias\u001b[0m(time,nj,ni), int16 \u001b[4msses_standard_deviation\u001b[0m(time,nj,ni), int16 \u001b[4ml2p_flags\u001b[0m(time,nj,ni), int16 \u001b[4mquality_level\u001b[0m(time,nj,ni), int16 \u001b[4mwind_speed\u001b[0m(time,nj,ni), int16 \u001b[4mdiurnal_amplitude\u001b[0m(time,nj,ni), int16 \u001b[4mcool_skin\u001b[0m(time,nj,ni), int16 \u001b[4mwater_vapor\u001b[0m(time,nj,ni), int16 \u001b[4mcloud_liquid_water\u001b[0m(time,nj,ni), int16 \u001b[4mrain_rate\u001b[0m(time,nj,ni)\n",
      "    groups: \n",
      "\n"
     ]
    }
   ],
   "source": [
    "from netCDF4 import Dataset\n",
    "fname='https://podaac-opendap.jpl.nasa.gov/opendap/allData/ghrsst/data/GDS2/L2P/AMSR2/REMSS/v8a/2018/009/20180109001040-REMSS-L2P_GHRSST-SSTsubskin-AMSR2-L2B_rt_r30034-v02.0-fv01.0.nc'\n",
    "f=Dataset(fname)\n",
    "print(f)"
   ]
  },
  {
   "cell_type": "code",
   "execution_count": 96,
   "metadata": {},
   "outputs": [
    {
     "name": "stdout",
     "output_type": "stream",
     "text": [
      "<class 'netCDF4._netCDF4.Variable'>\n",
      "int16 sea_surface_temperature(time, nj, ni)\n",
      "    long_name: sea surface sub-skin temperature\n",
      "    standard_name: sea_surface_subskin_temperature\n",
      "    units: K\n",
      "    _FillValue: -32768\n",
      "    add_offset: 273.15\n",
      "    scale_factor: 0.01\n",
      "    valid_min: -5000\n",
      "    valid_max: 5000\n",
      "    coordinates: lon lat\n",
      "    source: REMSS AMSR2 L2B Version-8\n",
      "    comment: Microwave SST = approximately the top 1 milimeter\n",
      "unlimited dimensions: \n",
      "current shape = (1, 4193, 243)\n",
      "filling off\n",
      "\n",
      "<class 'netCDF4._netCDF4.Variable'>\n",
      "int32 time(time)\n",
      "    long_name: reference time of sst file\n",
      "    standard_name: time\n",
      "    comment: this base time + sst_dtime = time of observation\n",
      "    units: seconds since 1981-01-01 00:00:00\n",
      "unlimited dimensions: \n",
      "current shape = (1,)\n",
      "filling off\n",
      "\n",
      "<class 'netCDF4._netCDF4.Variable'>\n",
      "int16 sst_dtime(time, nj, ni)\n",
      "    long_name: time difference from reference time\n",
      "    standard_name: dtime\n",
      "    units: second\n",
      "    _FillValue: -32768\n",
      "    add_offset: 0.0\n",
      "    scale_factor: 1.0\n",
      "    valid_min: 0\n",
      "    valid_max: 10000\n",
      "    coordinates: lon lat\n",
      "    comment: reference time + this sst_dtime = time of observation\n",
      "unlimited dimensions: \n",
      "current shape = (1, 4193, 243)\n",
      "filling off\n",
      "\n"
     ]
    }
   ],
   "source": [
    "print(f.variables['sea_surface_temperature'])\n",
    "print(f.variables['time'])\n",
    "print(f.variables['sst_dtime'])"
   ]
  },
  {
   "cell_type": "code",
   "execution_count": 108,
   "metadata": {},
   "outputs": [
    {
     "name": "stdout",
     "output_type": "stream",
     "text": [
      "start time from global attributes: 20180109T001040Z\n",
      "stop time from global attributes: 20180109T014848Z\n",
      "start time from time attribute in file: 2018-01-09 00:09:41\n",
      "from sst_dtime array min and max 2018-01-09 00:09:41 2018-01-09 01:48:33\n"
     ]
    }
   ],
   "source": [
    "#start_time: 20180109T001040Z\n",
    "# fill in times.\n",
    "import time\n",
    "import datetime as dt\n",
    "from datetime import datetime, timedelta\n",
    "from netCDF4 import num2date, date2num\n",
    "start_date=f.time_coverage_start\n",
    "print('start time from global attributes:',start_date)\n",
    "stop_date=f.time_coverage_end\n",
    "print('stop time from global attributes:',stop_date)\n",
    "sec_since_1981=int(f.variables['time'][0].data)\n",
    "date_1981 = dt.datetime(1981,1,1,0,0,0)\n",
    "start_date2 = date_1981+dt.timedelta(seconds=sec_since_1981)\n",
    "print('start time from time attribute in file:',start_date2)\n",
    "ob_time=f.variables['sst_dtime'][0,:,:]\n",
    "#print(ob_time.shape)\n",
    "ob_time_min = start_date2+dt.timedelta(seconds=int(ob_time.min()))\n",
    "ob_time_max = start_date2+dt.timedelta(seconds=int(ob_time.max()))\n",
    "print('from sst_dtime array min and max', ob_time_min,ob_time_max)\n",
    "\n",
    "date_l2p = datetime.strptime(start_date,'%Y%m%dT%H%M%SZ')\n",
    "minlat_l2p, maxlat_l2p, minlon_l2p, maxlon_l2p =f.southernmost_latitude, f.northernmost_latitude, f.westernmost_longitude , f.easternmost_longitude \n",
    "\n",
    "\n",
    "#t=depoch+datetime.timedelta(sec_since_1980/86400.)\n",
    "#print(t)\n",
    "#date_l2p=date_1970+dt.timedelta(days=tem_dy) \n",
    "#sst=f.sea_surface_temperature[:]\n",
    "#now = datetime.datetime.utcfromtimestamp(sec_since_1980)\n",
    "#print(now)\n",
    "#tempdat = temp[::2, [1,3,6], lats>0, lons>0]\n",
    "\n",
    "#\n",
    "#dates = [datetime(2001,3,1)+n*timedelta(hours=12) for n in range(temp.shape[0])]\n",
    "#times[:] = date2num(dates,units=times.units,calendar=times.calendar)\n",
    "#print \"time values (in units %s): \" % times.units+\"\\n\",times[:]\n",
    "#dates = num2date(times[:],units=times.units,calendar=times.calendar)\n",
    "#print \"dates corresponding to time values:\\n\",dates\n"
   ]
  },
  {
   "cell_type": "code",
   "execution_count": null,
   "metadata": {},
   "outputs": [],
   "source": []
  }
 ],
 "metadata": {
  "kernelspec": {
   "display_name": "Python 3",
   "language": "python",
   "name": "python3"
  },
  "language_info": {
   "codemirror_mode": {
    "name": "ipython",
    "version": 3
   },
   "file_extension": ".py",
   "mimetype": "text/x-python",
   "name": "python",
   "nbconvert_exporter": "python",
   "pygments_lexer": "ipython3",
   "version": "3.5.5"
  }
 },
 "nbformat": 4,
 "nbformat_minor": 2
}
